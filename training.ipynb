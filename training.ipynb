{
 "cells": [
  {
   "cell_type": "code",
   "execution_count": 1,
   "metadata": {},
   "outputs": [],
   "source": [
    "import random\n",
    "import numpy as np\n",
    "import pandas as pd\n",
    "\n",
    "# Scikit-learn core utilities\n",
    "from sklearn.base import BaseEstimator, ClassifierMixin, _fit_context\n",
    "from sklearn.utils import check_array\n",
    "from sklearn.utils.validation import check_is_fitted\n",
    "from sklearn.utils.multiclass import check_classification_targets\n",
    "\n",
    "# Preprocessing\n",
    "from sklearn.preprocessing import LabelEncoder\n",
    "\n",
    "# Model and evaluation\n",
    "from sklearn.tree import DecisionTreeClassifier\n",
    "from sklearn.model_selection import train_test_split, GridSearchCV\n",
    "from sklearn.metrics import accuracy_score, f1_score, classification_report, confusion_matrix"
   ]
  },
  {
   "cell_type": "markdown",
   "metadata": {},
   "source": [
    "## Data processing\n",
    "Data is processed as discussed in the other two notebooks"
   ]
  },
  {
   "cell_type": "code",
   "execution_count": 2,
   "metadata": {},
   "outputs": [
    {
     "name": "stdout",
     "output_type": "stream",
     "text": [
      "['fasting blood sugar', 'HDL', 'AST', 'age', 'ALT', 'Urine protein', 'Cholesterol', 'hearing(right)', 'dental caries', 'hearing(left)']\n"
     ]
    }
   ],
   "source": [
    "student_ids = [8110, 8000, 7497]\n",
    "random_seed = sum(student_ids)\n",
    "random.seed(random_seed)\n",
    "\n",
    "# Define input and output file paths\n",
    "input_csv = \"data.csv\"     \n",
    "output_csv = \"my_data.csv\"  \n",
    "\n",
    "# Load dataset\n",
    "df = pd.read_csv(input_csv)\n",
    "\n",
    "# Define the target column and separate it from feature selection\n",
    "target = 'smoking'\n",
    "feature_candidates = df.columns.drop(target).tolist()\n",
    "\n",
    "# Randomly select 10 features (excluding the target)\n",
    "selected_features = random.sample(feature_candidates, 10)\n",
    "print(selected_features)  # Required output\n",
    "\n",
    "# Append the target column back\n",
    "selected_features.append(target)\n",
    "\n",
    "# Create new DataFrame with selected features and save\n",
    "selected_df = df[selected_features].copy()\n",
    "selected_df.to_csv(output_csv, index=False)  # Ready for train/valid/test splitting\n"
   ]
  },
  {
   "cell_type": "code",
   "execution_count": 3,
   "metadata": {},
   "outputs": [],
   "source": [
    "df = pd.read_csv('my_data.csv')\n",
    "\n",
    "# Drop index column if it exists\n",
    "if 'Unnamed: 0' in df.columns:\n",
    "    df.drop(columns=['Unnamed: 0'], inplace=True)\n"
   ]
  },
  {
   "cell_type": "code",
   "execution_count": 4,
   "metadata": {},
   "outputs": [],
   "source": [
    "def remove_outliers(df, feature):\n",
    "    if df[feature].nunique() == 2:\n",
    "        return\n",
    "\n",
    "    original_count = df.shape[0]\n",
    "\n",
    "    lower_bound = df[feature].quantile(0.10)\n",
    "    upper_bound = df[feature].quantile(0.90)\n",
    "    mask = (df[feature] >= lower_bound) & (df[feature] <= upper_bound)\n",
    "\n",
    "    df.drop(index=df.index[~mask], inplace=True)\n",
    "    df.reset_index(drop=True, inplace=True)\n",
    "\n",
    "    new_count = df.shape[0]\n",
    "    print(f\"Removed {original_count - new_count} outliers from '{feature}'\")\n",
    "    print(f\"New DataFrame shape: {df.shape}\")\n",
    "\n",
    "def mean_normalize_all(df):\n",
    "    \"\"\"Applies mean normalization to all non-binary, non-target features.\"\"\"\n",
    "    for feature in df.columns:\n",
    "        if feature == 'smoking' or df[feature].nunique() == 2:\n",
    "            continue\n",
    "        df[feature] = (df[feature] - df[feature].mean()) / df[feature].std()\n",
    "        print(f\"[{feature}] Mean normalized → Max: {df[feature].max():.4f}, Min: {df[feature].min():.4f}\")\n",
    "\n",
    "def minmax_normalize_all(df):\n",
    "    \"\"\"Applies min-max normalization to all non-binary, non-target features.\"\"\"\n",
    "    for feature in df.columns:\n",
    "        if feature == 'smoking' or df[feature].nunique() == 2:\n",
    "            continue\n",
    "        min_val, max_val = df[feature].min(), df[feature].max()\n",
    "        df[feature] = (df[feature] - min_val) / (max_val - min_val)\n",
    "        print(f\"[{feature}] MinMax normalized → Max: {df[feature].max():.4f}, Min: {df[feature].min():.4f}\")\n",
    "\n",
    "def max_abs_normalize_all(df):\n",
    "    \"\"\"Applies max-abs normalization to all non-binary, non-target features.\"\"\"\n",
    "    for feature in df.columns:\n",
    "        if feature == 'smoking' or df[feature].nunique() == 2:\n",
    "            continue\n",
    "        max_val = abs(df[feature].max())\n",
    "        df[feature] = df[feature] / max_val\n",
    "        print(f\"[{feature}] MaxAbs normalized → Max: {df[feature].max():.4f}, Min: {df[feature].min():.4f}\")\n"
   ]
  },
  {
   "cell_type": "code",
   "execution_count": 5,
   "metadata": {},
   "outputs": [
    {
     "name": "stdout",
     "output_type": "stream",
     "text": [
      "Initial DataFrame Shape: (159256, 11)\n",
      "Removing outliers from ALT...\n",
      "Feature 'LDL' not found in the DataFrame.\n",
      "DataFrame after removing outliers and dropping unwanted columns: (152510, 9)\n",
      "Applying Mean Normalization...\n",
      "Applying Min-Max Normalization...\n",
      "Applying Max-Abs Normalization...\n",
      "Final DataFrame Shape after Normalization: (152510, 9)\n"
     ]
    }
   ],
   "source": [
    "\n",
    "def remove_outliers(df, feature):\n",
    "    Q1 = df[feature].quantile(0.25)\n",
    "    Q3 = df[feature].quantile(0.75)\n",
    "    IQR = Q3 - Q1\n",
    "    lower_bound = Q1 - 1.5 * IQR\n",
    "    upper_bound = Q3 + 1.5 * IQR\n",
    "    df = df[(df[feature] >= lower_bound) & (df[feature] <= upper_bound)]\n",
    "    return df\n",
    "\n",
    "# Assuming normalization functions are already defined\n",
    "def mean_normalize_all(df):\n",
    "    for column in df.select_dtypes(include=[np.number]).columns:\n",
    "        df[column] = (df[column] - df[column].mean()) / df[column].std()\n",
    "\n",
    "def minmax_normalize_all(df):\n",
    "    for column in df.select_dtypes(include=[np.number]).columns:\n",
    "        df[column] = (df[column] - df[column].min()) / (df[column].max() - df[column].min())\n",
    "\n",
    "def max_abs_normalize_all(df):\n",
    "    for column in df.select_dtypes(include=[np.number]).columns:\n",
    "        df[column] = df[column] / df[column].abs().max()\n",
    "\n",
    "# Assuming df is your original DataFrame\n",
    "print(\"Initial DataFrame Shape:\", df.shape)\n",
    "\n",
    "# Remove outliers from selected features\n",
    "for feature in ['ALT', 'LDL']:\n",
    "    if feature in df.columns:\n",
    "        print(f\"Removing outliers from {feature}...\")\n",
    "        df = remove_outliers(df, feature)\n",
    "    else:\n",
    "        print(f\"Feature '{feature}' not found in the DataFrame.\")\n",
    "\n",
    "# Drop irrelevant or unwanted features (columns)\n",
    "unwanted_columns = ['hearing(right)', 'Cholesterol']\n",
    "df.drop(columns=[col for col in unwanted_columns if col in df.columns], inplace=True, errors='ignore')\n",
    "\n",
    "# Check the DataFrame after cleaning\n",
    "print(\"DataFrame after removing outliers and dropping unwanted columns:\", df.shape)\n",
    "\n",
    "# Create separate copies for different normalization techniques\n",
    "df_mean_norm = df.copy()\n",
    "df_minmax_norm = df.copy()\n",
    "df_maxabs_norm = df.copy()\n",
    "\n",
    "# Apply normalization methods\n",
    "print(\"Applying Mean Normalization...\")\n",
    "mean_normalize_all(df_mean_norm)\n",
    "\n",
    "print(\"Applying Min-Max Normalization...\")\n",
    "minmax_normalize_all(df_minmax_norm)\n",
    "\n",
    "print(\"Applying Max-Abs Normalization...\")\n",
    "max_abs_normalize_all(df_maxabs_norm)\n",
    "\n",
    "# Use min-max normalized data as the final DataFrame\n",
    "df = df_minmax_norm.copy()\n",
    "\n",
    "# Final check\n",
    "print(\"Final DataFrame Shape after Normalization:\", df.shape)\n"
   ]
  },
  {
   "cell_type": "markdown",
   "metadata": {},
   "source": [
    "## Split dataset\n",
    " * 70% training\n",
    " * 15% validation\n",
    " * 15% test"
   ]
  },
  {
   "cell_type": "code",
   "execution_count": 6,
   "metadata": {},
   "outputs": [],
   "source": [
    "# Separate target and features\n",
    "y = df['smoking']\n",
    "X = df.drop('smoking', axis=1)\n",
    "\n",
    "# Split data into training (70%) and temporary (30%) sets\n",
    "X_train, X_temp, y_train, y_temp = train_test_split(\n",
    "    X, y, test_size=0.3, random_state=42, stratify=y\n",
    ")\n",
    "\n",
    "# Split the temporary set equally into validation and test sets (15% each)\n",
    "X_valid, X_test, y_valid, y_test = train_test_split(\n",
    "    X_temp, y_temp, test_size=0.5, random_state=42, stratify=y_temp\n",
    ")\n",
    "\n",
    "# Reset indices to maintain consistency\n",
    "for subset in [X_train, y_train, X_valid, y_valid, X_test, y_test]:\n",
    "    subset.reset_index(drop=True, inplace=True)\n"
   ]
  },
  {
   "cell_type": "markdown",
   "metadata": {},
   "source": [
    "### Class definition"
   ]
  },
  {
   "cell_type": "code",
   "execution_count": 7,
   "metadata": {},
   "outputs": [],
   "source": [
    "class BaggingClassifier(ClassifierMixin, BaseEstimator):\n",
    "    _parameter_constraints = {\n",
    "        \"max_depth\": [int, None],\n",
    "        \"n_estimators\": [int],\n",
    "        \"max_samples\": [float],\n",
    "        \"bootstrap\": [bool],\n",
    "        \"random_state\": [int, None],\n",
    "    }\n",
    "\n",
    "    def __init__(self, max_depth=None, n_estimators=50, max_samples=1.0, bootstrap=True, random_state=None):\n",
    "        self.max_depth = max_depth\n",
    "        self.n_estimators = n_estimators\n",
    "        self.max_samples = max_samples\n",
    "        self.bootstrap = bootstrap\n",
    "        self.random_state = random_state\n",
    "\n",
    "    @_fit_context(prefer_skip_nested_validation=True)\n",
    "    def fit(self, X, y):\n",
    "        X, y = self._validate_data(X, y)\n",
    "        check_classification_targets(y)\n",
    "\n",
    "        self.label_encoder = LabelEncoder()\n",
    "        y = self.label_encoder.fit_transform(y)\n",
    "        self.classes_ = self.label_encoder.classes_\n",
    "        self.models = []\n",
    "\n",
    "        rng = np.random.default_rng(self.random_state)\n",
    "        n_samples = min(int(len(X) * self.max_samples), len(X))\n",
    "\n",
    "        for _ in range(self.n_estimators):\n",
    "            if self.bootstrap:\n",
    "                indices = rng.choice(len(X), size=n_samples, replace=True)\n",
    "                X_sample, y_sample = X[indices], y[indices]\n",
    "            else:\n",
    "                X_sample, y_sample = X, y\n",
    "\n",
    "            if len(np.unique(y_sample)) < 2:\n",
    "                continue\n",
    "\n",
    "            model = DecisionTreeClassifier(max_depth=self.max_depth, random_state=self.random_state)\n",
    "            model.fit(X_sample, y_sample)\n",
    "            self.models.append(model)\n",
    "\n",
    "        self.is_fitted_ = True\n",
    "        return self\n",
    "\n",
    "    def predict(self, X):\n",
    "        check_is_fitted(self)\n",
    "        X = self._validate_data(X, accept_sparse=True, reset=False)\n",
    "\n",
    "        predictions = np.array([model.predict(X) for model in self.models])\n",
    "        majority_votes = np.apply_along_axis(\n",
    "            lambda preds: np.bincount(preds, minlength=len(self.classes_)).argmax(),\n",
    "            axis=0,\n",
    "            arr=predictions\n",
    "        )\n",
    "        return majority_votes\n"
   ]
  },
  {
   "cell_type": "code",
   "execution_count": 8,
   "metadata": {},
   "outputs": [
    {
     "name": "stdout",
     "output_type": "stream",
     "text": [
      "Hyperparameter Tuning for Bagging:\n",
      "Fitting 5 folds for each of 9 candidates, totalling 45 fits\n"
     ]
    },
    {
     "name": "stderr",
     "output_type": "stream",
     "text": [
      "c:\\Users\\MMM\\AppData\\Local\\Programs\\Python\\Python313\\Lib\\site-packages\\sklearn\\base.py:474: FutureWarning: `BaseEstimator._validate_data` is deprecated in 1.6 and will be removed in 1.7. Use `sklearn.utils.validation.validate_data` instead. This function becomes public and is part of the scikit-learn developer API.\n",
      "  warnings.warn(\n",
      "c:\\Users\\MMM\\AppData\\Local\\Programs\\Python\\Python313\\Lib\\site-packages\\sklearn\\base.py:474: FutureWarning: `BaseEstimator._validate_data` is deprecated in 1.6 and will be removed in 1.7. Use `sklearn.utils.validation.validate_data` instead. This function becomes public and is part of the scikit-learn developer API.\n",
      "  warnings.warn(\n"
     ]
    },
    {
     "name": "stdout",
     "output_type": "stream",
     "text": [
      "[CV] END ..max_samples=0.5, n_estimators=50, random_state=42; total time=   7.6s\n"
     ]
    },
    {
     "name": "stderr",
     "output_type": "stream",
     "text": [
      "c:\\Users\\MMM\\AppData\\Local\\Programs\\Python\\Python313\\Lib\\site-packages\\sklearn\\base.py:474: FutureWarning: `BaseEstimator._validate_data` is deprecated in 1.6 and will be removed in 1.7. Use `sklearn.utils.validation.validate_data` instead. This function becomes public and is part of the scikit-learn developer API.\n",
      "  warnings.warn(\n",
      "c:\\Users\\MMM\\AppData\\Local\\Programs\\Python\\Python313\\Lib\\site-packages\\sklearn\\base.py:474: FutureWarning: `BaseEstimator._validate_data` is deprecated in 1.6 and will be removed in 1.7. Use `sklearn.utils.validation.validate_data` instead. This function becomes public and is part of the scikit-learn developer API.\n",
      "  warnings.warn(\n"
     ]
    },
    {
     "name": "stdout",
     "output_type": "stream",
     "text": [
      "[CV] END ..max_samples=0.5, n_estimators=50, random_state=42; total time=   7.2s\n"
     ]
    },
    {
     "name": "stderr",
     "output_type": "stream",
     "text": [
      "c:\\Users\\MMM\\AppData\\Local\\Programs\\Python\\Python313\\Lib\\site-packages\\sklearn\\base.py:474: FutureWarning: `BaseEstimator._validate_data` is deprecated in 1.6 and will be removed in 1.7. Use `sklearn.utils.validation.validate_data` instead. This function becomes public and is part of the scikit-learn developer API.\n",
      "  warnings.warn(\n",
      "c:\\Users\\MMM\\AppData\\Local\\Programs\\Python\\Python313\\Lib\\site-packages\\sklearn\\base.py:474: FutureWarning: `BaseEstimator._validate_data` is deprecated in 1.6 and will be removed in 1.7. Use `sklearn.utils.validation.validate_data` instead. This function becomes public and is part of the scikit-learn developer API.\n",
      "  warnings.warn(\n"
     ]
    },
    {
     "name": "stdout",
     "output_type": "stream",
     "text": [
      "[CV] END ..max_samples=0.5, n_estimators=50, random_state=42; total time=   7.0s\n"
     ]
    },
    {
     "name": "stderr",
     "output_type": "stream",
     "text": [
      "c:\\Users\\MMM\\AppData\\Local\\Programs\\Python\\Python313\\Lib\\site-packages\\sklearn\\base.py:474: FutureWarning: `BaseEstimator._validate_data` is deprecated in 1.6 and will be removed in 1.7. Use `sklearn.utils.validation.validate_data` instead. This function becomes public and is part of the scikit-learn developer API.\n",
      "  warnings.warn(\n",
      "c:\\Users\\MMM\\AppData\\Local\\Programs\\Python\\Python313\\Lib\\site-packages\\sklearn\\base.py:474: FutureWarning: `BaseEstimator._validate_data` is deprecated in 1.6 and will be removed in 1.7. Use `sklearn.utils.validation.validate_data` instead. This function becomes public and is part of the scikit-learn developer API.\n",
      "  warnings.warn(\n"
     ]
    },
    {
     "name": "stdout",
     "output_type": "stream",
     "text": [
      "[CV] END ..max_samples=0.5, n_estimators=50, random_state=42; total time=   6.9s\n"
     ]
    },
    {
     "name": "stderr",
     "output_type": "stream",
     "text": [
      "c:\\Users\\MMM\\AppData\\Local\\Programs\\Python\\Python313\\Lib\\site-packages\\sklearn\\base.py:474: FutureWarning: `BaseEstimator._validate_data` is deprecated in 1.6 and will be removed in 1.7. Use `sklearn.utils.validation.validate_data` instead. This function becomes public and is part of the scikit-learn developer API.\n",
      "  warnings.warn(\n",
      "c:\\Users\\MMM\\AppData\\Local\\Programs\\Python\\Python313\\Lib\\site-packages\\sklearn\\base.py:474: FutureWarning: `BaseEstimator._validate_data` is deprecated in 1.6 and will be removed in 1.7. Use `sklearn.utils.validation.validate_data` instead. This function becomes public and is part of the scikit-learn developer API.\n",
      "  warnings.warn(\n"
     ]
    },
    {
     "name": "stdout",
     "output_type": "stream",
     "text": [
      "[CV] END ..max_samples=0.5, n_estimators=50, random_state=42; total time=   7.0s\n"
     ]
    },
    {
     "name": "stderr",
     "output_type": "stream",
     "text": [
      "c:\\Users\\MMM\\AppData\\Local\\Programs\\Python\\Python313\\Lib\\site-packages\\sklearn\\base.py:474: FutureWarning: `BaseEstimator._validate_data` is deprecated in 1.6 and will be removed in 1.7. Use `sklearn.utils.validation.validate_data` instead. This function becomes public and is part of the scikit-learn developer API.\n",
      "  warnings.warn(\n",
      "c:\\Users\\MMM\\AppData\\Local\\Programs\\Python\\Python313\\Lib\\site-packages\\sklearn\\base.py:474: FutureWarning: `BaseEstimator._validate_data` is deprecated in 1.6 and will be removed in 1.7. Use `sklearn.utils.validation.validate_data` instead. This function becomes public and is part of the scikit-learn developer API.\n",
      "  warnings.warn(\n"
     ]
    },
    {
     "name": "stdout",
     "output_type": "stream",
     "text": [
      "[CV] END .max_samples=0.5, n_estimators=100, random_state=42; total time=  13.9s\n"
     ]
    },
    {
     "name": "stderr",
     "output_type": "stream",
     "text": [
      "c:\\Users\\MMM\\AppData\\Local\\Programs\\Python\\Python313\\Lib\\site-packages\\sklearn\\base.py:474: FutureWarning: `BaseEstimator._validate_data` is deprecated in 1.6 and will be removed in 1.7. Use `sklearn.utils.validation.validate_data` instead. This function becomes public and is part of the scikit-learn developer API.\n",
      "  warnings.warn(\n",
      "c:\\Users\\MMM\\AppData\\Local\\Programs\\Python\\Python313\\Lib\\site-packages\\sklearn\\base.py:474: FutureWarning: `BaseEstimator._validate_data` is deprecated in 1.6 and will be removed in 1.7. Use `sklearn.utils.validation.validate_data` instead. This function becomes public and is part of the scikit-learn developer API.\n",
      "  warnings.warn(\n"
     ]
    },
    {
     "name": "stdout",
     "output_type": "stream",
     "text": [
      "[CV] END .max_samples=0.5, n_estimators=100, random_state=42; total time=  14.3s\n"
     ]
    },
    {
     "name": "stderr",
     "output_type": "stream",
     "text": [
      "c:\\Users\\MMM\\AppData\\Local\\Programs\\Python\\Python313\\Lib\\site-packages\\sklearn\\base.py:474: FutureWarning: `BaseEstimator._validate_data` is deprecated in 1.6 and will be removed in 1.7. Use `sklearn.utils.validation.validate_data` instead. This function becomes public and is part of the scikit-learn developer API.\n",
      "  warnings.warn(\n",
      "c:\\Users\\MMM\\AppData\\Local\\Programs\\Python\\Python313\\Lib\\site-packages\\sklearn\\base.py:474: FutureWarning: `BaseEstimator._validate_data` is deprecated in 1.6 and will be removed in 1.7. Use `sklearn.utils.validation.validate_data` instead. This function becomes public and is part of the scikit-learn developer API.\n",
      "  warnings.warn(\n"
     ]
    },
    {
     "name": "stdout",
     "output_type": "stream",
     "text": [
      "[CV] END .max_samples=0.5, n_estimators=100, random_state=42; total time=  13.8s\n"
     ]
    },
    {
     "name": "stderr",
     "output_type": "stream",
     "text": [
      "c:\\Users\\MMM\\AppData\\Local\\Programs\\Python\\Python313\\Lib\\site-packages\\sklearn\\base.py:474: FutureWarning: `BaseEstimator._validate_data` is deprecated in 1.6 and will be removed in 1.7. Use `sklearn.utils.validation.validate_data` instead. This function becomes public and is part of the scikit-learn developer API.\n",
      "  warnings.warn(\n",
      "c:\\Users\\MMM\\AppData\\Local\\Programs\\Python\\Python313\\Lib\\site-packages\\sklearn\\base.py:474: FutureWarning: `BaseEstimator._validate_data` is deprecated in 1.6 and will be removed in 1.7. Use `sklearn.utils.validation.validate_data` instead. This function becomes public and is part of the scikit-learn developer API.\n",
      "  warnings.warn(\n"
     ]
    },
    {
     "name": "stdout",
     "output_type": "stream",
     "text": [
      "[CV] END .max_samples=0.5, n_estimators=100, random_state=42; total time=  13.9s\n"
     ]
    },
    {
     "name": "stderr",
     "output_type": "stream",
     "text": [
      "c:\\Users\\MMM\\AppData\\Local\\Programs\\Python\\Python313\\Lib\\site-packages\\sklearn\\base.py:474: FutureWarning: `BaseEstimator._validate_data` is deprecated in 1.6 and will be removed in 1.7. Use `sklearn.utils.validation.validate_data` instead. This function becomes public and is part of the scikit-learn developer API.\n",
      "  warnings.warn(\n",
      "c:\\Users\\MMM\\AppData\\Local\\Programs\\Python\\Python313\\Lib\\site-packages\\sklearn\\base.py:474: FutureWarning: `BaseEstimator._validate_data` is deprecated in 1.6 and will be removed in 1.7. Use `sklearn.utils.validation.validate_data` instead. This function becomes public and is part of the scikit-learn developer API.\n",
      "  warnings.warn(\n"
     ]
    },
    {
     "name": "stdout",
     "output_type": "stream",
     "text": [
      "[CV] END .max_samples=0.5, n_estimators=100, random_state=42; total time=  14.1s\n"
     ]
    },
    {
     "name": "stderr",
     "output_type": "stream",
     "text": [
      "c:\\Users\\MMM\\AppData\\Local\\Programs\\Python\\Python313\\Lib\\site-packages\\sklearn\\base.py:474: FutureWarning: `BaseEstimator._validate_data` is deprecated in 1.6 and will be removed in 1.7. Use `sklearn.utils.validation.validate_data` instead. This function becomes public and is part of the scikit-learn developer API.\n",
      "  warnings.warn(\n",
      "c:\\Users\\MMM\\AppData\\Local\\Programs\\Python\\Python313\\Lib\\site-packages\\sklearn\\base.py:474: FutureWarning: `BaseEstimator._validate_data` is deprecated in 1.6 and will be removed in 1.7. Use `sklearn.utils.validation.validate_data` instead. This function becomes public and is part of the scikit-learn developer API.\n",
      "  warnings.warn(\n"
     ]
    },
    {
     "name": "stdout",
     "output_type": "stream",
     "text": [
      "[CV] END .max_samples=0.5, n_estimators=150, random_state=42; total time=  21.4s\n"
     ]
    },
    {
     "name": "stderr",
     "output_type": "stream",
     "text": [
      "c:\\Users\\MMM\\AppData\\Local\\Programs\\Python\\Python313\\Lib\\site-packages\\sklearn\\base.py:474: FutureWarning: `BaseEstimator._validate_data` is deprecated in 1.6 and will be removed in 1.7. Use `sklearn.utils.validation.validate_data` instead. This function becomes public and is part of the scikit-learn developer API.\n",
      "  warnings.warn(\n",
      "c:\\Users\\MMM\\AppData\\Local\\Programs\\Python\\Python313\\Lib\\site-packages\\sklearn\\base.py:474: FutureWarning: `BaseEstimator._validate_data` is deprecated in 1.6 and will be removed in 1.7. Use `sklearn.utils.validation.validate_data` instead. This function becomes public and is part of the scikit-learn developer API.\n",
      "  warnings.warn(\n"
     ]
    },
    {
     "name": "stdout",
     "output_type": "stream",
     "text": [
      "[CV] END .max_samples=0.5, n_estimators=150, random_state=42; total time=  20.8s\n"
     ]
    },
    {
     "name": "stderr",
     "output_type": "stream",
     "text": [
      "c:\\Users\\MMM\\AppData\\Local\\Programs\\Python\\Python313\\Lib\\site-packages\\sklearn\\base.py:474: FutureWarning: `BaseEstimator._validate_data` is deprecated in 1.6 and will be removed in 1.7. Use `sklearn.utils.validation.validate_data` instead. This function becomes public and is part of the scikit-learn developer API.\n",
      "  warnings.warn(\n",
      "c:\\Users\\MMM\\AppData\\Local\\Programs\\Python\\Python313\\Lib\\site-packages\\sklearn\\base.py:474: FutureWarning: `BaseEstimator._validate_data` is deprecated in 1.6 and will be removed in 1.7. Use `sklearn.utils.validation.validate_data` instead. This function becomes public and is part of the scikit-learn developer API.\n",
      "  warnings.warn(\n"
     ]
    },
    {
     "name": "stdout",
     "output_type": "stream",
     "text": [
      "[CV] END .max_samples=0.5, n_estimators=150, random_state=42; total time=  20.8s\n"
     ]
    },
    {
     "name": "stderr",
     "output_type": "stream",
     "text": [
      "c:\\Users\\MMM\\AppData\\Local\\Programs\\Python\\Python313\\Lib\\site-packages\\sklearn\\base.py:474: FutureWarning: `BaseEstimator._validate_data` is deprecated in 1.6 and will be removed in 1.7. Use `sklearn.utils.validation.validate_data` instead. This function becomes public and is part of the scikit-learn developer API.\n",
      "  warnings.warn(\n",
      "c:\\Users\\MMM\\AppData\\Local\\Programs\\Python\\Python313\\Lib\\site-packages\\sklearn\\base.py:474: FutureWarning: `BaseEstimator._validate_data` is deprecated in 1.6 and will be removed in 1.7. Use `sklearn.utils.validation.validate_data` instead. This function becomes public and is part of the scikit-learn developer API.\n",
      "  warnings.warn(\n"
     ]
    },
    {
     "name": "stdout",
     "output_type": "stream",
     "text": [
      "[CV] END .max_samples=0.5, n_estimators=150, random_state=42; total time=  21.3s\n"
     ]
    },
    {
     "name": "stderr",
     "output_type": "stream",
     "text": [
      "c:\\Users\\MMM\\AppData\\Local\\Programs\\Python\\Python313\\Lib\\site-packages\\sklearn\\base.py:474: FutureWarning: `BaseEstimator._validate_data` is deprecated in 1.6 and will be removed in 1.7. Use `sklearn.utils.validation.validate_data` instead. This function becomes public and is part of the scikit-learn developer API.\n",
      "  warnings.warn(\n",
      "c:\\Users\\MMM\\AppData\\Local\\Programs\\Python\\Python313\\Lib\\site-packages\\sklearn\\base.py:474: FutureWarning: `BaseEstimator._validate_data` is deprecated in 1.6 and will be removed in 1.7. Use `sklearn.utils.validation.validate_data` instead. This function becomes public and is part of the scikit-learn developer API.\n",
      "  warnings.warn(\n"
     ]
    },
    {
     "name": "stdout",
     "output_type": "stream",
     "text": [
      "[CV] END .max_samples=0.5, n_estimators=150, random_state=42; total time=  20.8s\n"
     ]
    },
    {
     "name": "stderr",
     "output_type": "stream",
     "text": [
      "c:\\Users\\MMM\\AppData\\Local\\Programs\\Python\\Python313\\Lib\\site-packages\\sklearn\\base.py:474: FutureWarning: `BaseEstimator._validate_data` is deprecated in 1.6 and will be removed in 1.7. Use `sklearn.utils.validation.validate_data` instead. This function becomes public and is part of the scikit-learn developer API.\n",
      "  warnings.warn(\n",
      "c:\\Users\\MMM\\AppData\\Local\\Programs\\Python\\Python313\\Lib\\site-packages\\sklearn\\base.py:474: FutureWarning: `BaseEstimator._validate_data` is deprecated in 1.6 and will be removed in 1.7. Use `sklearn.utils.validation.validate_data` instead. This function becomes public and is part of the scikit-learn developer API.\n",
      "  warnings.warn(\n"
     ]
    },
    {
     "name": "stdout",
     "output_type": "stream",
     "text": [
      "[CV] END ..max_samples=0.7, n_estimators=50, random_state=42; total time=   9.5s\n"
     ]
    },
    {
     "name": "stderr",
     "output_type": "stream",
     "text": [
      "c:\\Users\\MMM\\AppData\\Local\\Programs\\Python\\Python313\\Lib\\site-packages\\sklearn\\base.py:474: FutureWarning: `BaseEstimator._validate_data` is deprecated in 1.6 and will be removed in 1.7. Use `sklearn.utils.validation.validate_data` instead. This function becomes public and is part of the scikit-learn developer API.\n",
      "  warnings.warn(\n",
      "c:\\Users\\MMM\\AppData\\Local\\Programs\\Python\\Python313\\Lib\\site-packages\\sklearn\\base.py:474: FutureWarning: `BaseEstimator._validate_data` is deprecated in 1.6 and will be removed in 1.7. Use `sklearn.utils.validation.validate_data` instead. This function becomes public and is part of the scikit-learn developer API.\n",
      "  warnings.warn(\n"
     ]
    },
    {
     "name": "stdout",
     "output_type": "stream",
     "text": [
      "[CV] END ..max_samples=0.7, n_estimators=50, random_state=42; total time=   9.5s\n"
     ]
    },
    {
     "name": "stderr",
     "output_type": "stream",
     "text": [
      "c:\\Users\\MMM\\AppData\\Local\\Programs\\Python\\Python313\\Lib\\site-packages\\sklearn\\base.py:474: FutureWarning: `BaseEstimator._validate_data` is deprecated in 1.6 and will be removed in 1.7. Use `sklearn.utils.validation.validate_data` instead. This function becomes public and is part of the scikit-learn developer API.\n",
      "  warnings.warn(\n",
      "c:\\Users\\MMM\\AppData\\Local\\Programs\\Python\\Python313\\Lib\\site-packages\\sklearn\\base.py:474: FutureWarning: `BaseEstimator._validate_data` is deprecated in 1.6 and will be removed in 1.7. Use `sklearn.utils.validation.validate_data` instead. This function becomes public and is part of the scikit-learn developer API.\n",
      "  warnings.warn(\n"
     ]
    },
    {
     "name": "stdout",
     "output_type": "stream",
     "text": [
      "[CV] END ..max_samples=0.7, n_estimators=50, random_state=42; total time=   9.5s\n"
     ]
    },
    {
     "name": "stderr",
     "output_type": "stream",
     "text": [
      "c:\\Users\\MMM\\AppData\\Local\\Programs\\Python\\Python313\\Lib\\site-packages\\sklearn\\base.py:474: FutureWarning: `BaseEstimator._validate_data` is deprecated in 1.6 and will be removed in 1.7. Use `sklearn.utils.validation.validate_data` instead. This function becomes public and is part of the scikit-learn developer API.\n",
      "  warnings.warn(\n",
      "c:\\Users\\MMM\\AppData\\Local\\Programs\\Python\\Python313\\Lib\\site-packages\\sklearn\\base.py:474: FutureWarning: `BaseEstimator._validate_data` is deprecated in 1.6 and will be removed in 1.7. Use `sklearn.utils.validation.validate_data` instead. This function becomes public and is part of the scikit-learn developer API.\n",
      "  warnings.warn(\n"
     ]
    },
    {
     "name": "stdout",
     "output_type": "stream",
     "text": [
      "[CV] END ..max_samples=0.7, n_estimators=50, random_state=42; total time=   9.5s\n"
     ]
    },
    {
     "name": "stderr",
     "output_type": "stream",
     "text": [
      "c:\\Users\\MMM\\AppData\\Local\\Programs\\Python\\Python313\\Lib\\site-packages\\sklearn\\base.py:474: FutureWarning: `BaseEstimator._validate_data` is deprecated in 1.6 and will be removed in 1.7. Use `sklearn.utils.validation.validate_data` instead. This function becomes public and is part of the scikit-learn developer API.\n",
      "  warnings.warn(\n",
      "c:\\Users\\MMM\\AppData\\Local\\Programs\\Python\\Python313\\Lib\\site-packages\\sklearn\\base.py:474: FutureWarning: `BaseEstimator._validate_data` is deprecated in 1.6 and will be removed in 1.7. Use `sklearn.utils.validation.validate_data` instead. This function becomes public and is part of the scikit-learn developer API.\n",
      "  warnings.warn(\n"
     ]
    },
    {
     "name": "stdout",
     "output_type": "stream",
     "text": [
      "[CV] END ..max_samples=0.7, n_estimators=50, random_state=42; total time=   9.4s\n"
     ]
    },
    {
     "name": "stderr",
     "output_type": "stream",
     "text": [
      "c:\\Users\\MMM\\AppData\\Local\\Programs\\Python\\Python313\\Lib\\site-packages\\sklearn\\base.py:474: FutureWarning: `BaseEstimator._validate_data` is deprecated in 1.6 and will be removed in 1.7. Use `sklearn.utils.validation.validate_data` instead. This function becomes public and is part of the scikit-learn developer API.\n",
      "  warnings.warn(\n",
      "c:\\Users\\MMM\\AppData\\Local\\Programs\\Python\\Python313\\Lib\\site-packages\\sklearn\\base.py:474: FutureWarning: `BaseEstimator._validate_data` is deprecated in 1.6 and will be removed in 1.7. Use `sklearn.utils.validation.validate_data` instead. This function becomes public and is part of the scikit-learn developer API.\n",
      "  warnings.warn(\n"
     ]
    },
    {
     "name": "stdout",
     "output_type": "stream",
     "text": [
      "[CV] END .max_samples=0.7, n_estimators=100, random_state=42; total time=  19.3s\n"
     ]
    },
    {
     "name": "stderr",
     "output_type": "stream",
     "text": [
      "c:\\Users\\MMM\\AppData\\Local\\Programs\\Python\\Python313\\Lib\\site-packages\\sklearn\\base.py:474: FutureWarning: `BaseEstimator._validate_data` is deprecated in 1.6 and will be removed in 1.7. Use `sklearn.utils.validation.validate_data` instead. This function becomes public and is part of the scikit-learn developer API.\n",
      "  warnings.warn(\n",
      "c:\\Users\\MMM\\AppData\\Local\\Programs\\Python\\Python313\\Lib\\site-packages\\sklearn\\base.py:474: FutureWarning: `BaseEstimator._validate_data` is deprecated in 1.6 and will be removed in 1.7. Use `sklearn.utils.validation.validate_data` instead. This function becomes public and is part of the scikit-learn developer API.\n",
      "  warnings.warn(\n"
     ]
    },
    {
     "name": "stdout",
     "output_type": "stream",
     "text": [
      "[CV] END .max_samples=0.7, n_estimators=100, random_state=42; total time=  19.1s\n"
     ]
    },
    {
     "name": "stderr",
     "output_type": "stream",
     "text": [
      "c:\\Users\\MMM\\AppData\\Local\\Programs\\Python\\Python313\\Lib\\site-packages\\sklearn\\base.py:474: FutureWarning: `BaseEstimator._validate_data` is deprecated in 1.6 and will be removed in 1.7. Use `sklearn.utils.validation.validate_data` instead. This function becomes public and is part of the scikit-learn developer API.\n",
      "  warnings.warn(\n",
      "c:\\Users\\MMM\\AppData\\Local\\Programs\\Python\\Python313\\Lib\\site-packages\\sklearn\\base.py:474: FutureWarning: `BaseEstimator._validate_data` is deprecated in 1.6 and will be removed in 1.7. Use `sklearn.utils.validation.validate_data` instead. This function becomes public and is part of the scikit-learn developer API.\n",
      "  warnings.warn(\n"
     ]
    },
    {
     "name": "stdout",
     "output_type": "stream",
     "text": [
      "[CV] END .max_samples=0.7, n_estimators=100, random_state=42; total time=  18.8s\n"
     ]
    },
    {
     "name": "stderr",
     "output_type": "stream",
     "text": [
      "c:\\Users\\MMM\\AppData\\Local\\Programs\\Python\\Python313\\Lib\\site-packages\\sklearn\\base.py:474: FutureWarning: `BaseEstimator._validate_data` is deprecated in 1.6 and will be removed in 1.7. Use `sklearn.utils.validation.validate_data` instead. This function becomes public and is part of the scikit-learn developer API.\n",
      "  warnings.warn(\n",
      "c:\\Users\\MMM\\AppData\\Local\\Programs\\Python\\Python313\\Lib\\site-packages\\sklearn\\base.py:474: FutureWarning: `BaseEstimator._validate_data` is deprecated in 1.6 and will be removed in 1.7. Use `sklearn.utils.validation.validate_data` instead. This function becomes public and is part of the scikit-learn developer API.\n",
      "  warnings.warn(\n"
     ]
    },
    {
     "name": "stdout",
     "output_type": "stream",
     "text": [
      "[CV] END .max_samples=0.7, n_estimators=100, random_state=42; total time=  18.9s\n"
     ]
    },
    {
     "name": "stderr",
     "output_type": "stream",
     "text": [
      "c:\\Users\\MMM\\AppData\\Local\\Programs\\Python\\Python313\\Lib\\site-packages\\sklearn\\base.py:474: FutureWarning: `BaseEstimator._validate_data` is deprecated in 1.6 and will be removed in 1.7. Use `sklearn.utils.validation.validate_data` instead. This function becomes public and is part of the scikit-learn developer API.\n",
      "  warnings.warn(\n",
      "c:\\Users\\MMM\\AppData\\Local\\Programs\\Python\\Python313\\Lib\\site-packages\\sklearn\\base.py:474: FutureWarning: `BaseEstimator._validate_data` is deprecated in 1.6 and will be removed in 1.7. Use `sklearn.utils.validation.validate_data` instead. This function becomes public and is part of the scikit-learn developer API.\n",
      "  warnings.warn(\n"
     ]
    },
    {
     "name": "stdout",
     "output_type": "stream",
     "text": [
      "[CV] END .max_samples=0.7, n_estimators=100, random_state=42; total time=  18.9s\n"
     ]
    },
    {
     "name": "stderr",
     "output_type": "stream",
     "text": [
      "c:\\Users\\MMM\\AppData\\Local\\Programs\\Python\\Python313\\Lib\\site-packages\\sklearn\\base.py:474: FutureWarning: `BaseEstimator._validate_data` is deprecated in 1.6 and will be removed in 1.7. Use `sklearn.utils.validation.validate_data` instead. This function becomes public and is part of the scikit-learn developer API.\n",
      "  warnings.warn(\n",
      "c:\\Users\\MMM\\AppData\\Local\\Programs\\Python\\Python313\\Lib\\site-packages\\sklearn\\base.py:474: FutureWarning: `BaseEstimator._validate_data` is deprecated in 1.6 and will be removed in 1.7. Use `sklearn.utils.validation.validate_data` instead. This function becomes public and is part of the scikit-learn developer API.\n",
      "  warnings.warn(\n"
     ]
    },
    {
     "name": "stdout",
     "output_type": "stream",
     "text": [
      "[CV] END .max_samples=0.7, n_estimators=150, random_state=42; total time=  28.4s\n"
     ]
    },
    {
     "name": "stderr",
     "output_type": "stream",
     "text": [
      "c:\\Users\\MMM\\AppData\\Local\\Programs\\Python\\Python313\\Lib\\site-packages\\sklearn\\base.py:474: FutureWarning: `BaseEstimator._validate_data` is deprecated in 1.6 and will be removed in 1.7. Use `sklearn.utils.validation.validate_data` instead. This function becomes public and is part of the scikit-learn developer API.\n",
      "  warnings.warn(\n",
      "c:\\Users\\MMM\\AppData\\Local\\Programs\\Python\\Python313\\Lib\\site-packages\\sklearn\\base.py:474: FutureWarning: `BaseEstimator._validate_data` is deprecated in 1.6 and will be removed in 1.7. Use `sklearn.utils.validation.validate_data` instead. This function becomes public and is part of the scikit-learn developer API.\n",
      "  warnings.warn(\n"
     ]
    },
    {
     "name": "stdout",
     "output_type": "stream",
     "text": [
      "[CV] END .max_samples=0.7, n_estimators=150, random_state=42; total time=  28.4s\n"
     ]
    },
    {
     "name": "stderr",
     "output_type": "stream",
     "text": [
      "c:\\Users\\MMM\\AppData\\Local\\Programs\\Python\\Python313\\Lib\\site-packages\\sklearn\\base.py:474: FutureWarning: `BaseEstimator._validate_data` is deprecated in 1.6 and will be removed in 1.7. Use `sklearn.utils.validation.validate_data` instead. This function becomes public and is part of the scikit-learn developer API.\n",
      "  warnings.warn(\n",
      "c:\\Users\\MMM\\AppData\\Local\\Programs\\Python\\Python313\\Lib\\site-packages\\sklearn\\base.py:474: FutureWarning: `BaseEstimator._validate_data` is deprecated in 1.6 and will be removed in 1.7. Use `sklearn.utils.validation.validate_data` instead. This function becomes public and is part of the scikit-learn developer API.\n",
      "  warnings.warn(\n"
     ]
    },
    {
     "name": "stdout",
     "output_type": "stream",
     "text": [
      "[CV] END .max_samples=0.7, n_estimators=150, random_state=42; total time=  29.2s\n"
     ]
    },
    {
     "name": "stderr",
     "output_type": "stream",
     "text": [
      "c:\\Users\\MMM\\AppData\\Local\\Programs\\Python\\Python313\\Lib\\site-packages\\sklearn\\base.py:474: FutureWarning: `BaseEstimator._validate_data` is deprecated in 1.6 and will be removed in 1.7. Use `sklearn.utils.validation.validate_data` instead. This function becomes public and is part of the scikit-learn developer API.\n",
      "  warnings.warn(\n",
      "c:\\Users\\MMM\\AppData\\Local\\Programs\\Python\\Python313\\Lib\\site-packages\\sklearn\\base.py:474: FutureWarning: `BaseEstimator._validate_data` is deprecated in 1.6 and will be removed in 1.7. Use `sklearn.utils.validation.validate_data` instead. This function becomes public and is part of the scikit-learn developer API.\n",
      "  warnings.warn(\n"
     ]
    },
    {
     "name": "stdout",
     "output_type": "stream",
     "text": [
      "[CV] END .max_samples=0.7, n_estimators=150, random_state=42; total time=  28.3s\n"
     ]
    },
    {
     "name": "stderr",
     "output_type": "stream",
     "text": [
      "c:\\Users\\MMM\\AppData\\Local\\Programs\\Python\\Python313\\Lib\\site-packages\\sklearn\\base.py:474: FutureWarning: `BaseEstimator._validate_data` is deprecated in 1.6 and will be removed in 1.7. Use `sklearn.utils.validation.validate_data` instead. This function becomes public and is part of the scikit-learn developer API.\n",
      "  warnings.warn(\n",
      "c:\\Users\\MMM\\AppData\\Local\\Programs\\Python\\Python313\\Lib\\site-packages\\sklearn\\base.py:474: FutureWarning: `BaseEstimator._validate_data` is deprecated in 1.6 and will be removed in 1.7. Use `sklearn.utils.validation.validate_data` instead. This function becomes public and is part of the scikit-learn developer API.\n",
      "  warnings.warn(\n"
     ]
    },
    {
     "name": "stdout",
     "output_type": "stream",
     "text": [
      "[CV] END .max_samples=0.7, n_estimators=150, random_state=42; total time=  28.3s\n"
     ]
    },
    {
     "name": "stderr",
     "output_type": "stream",
     "text": [
      "c:\\Users\\MMM\\AppData\\Local\\Programs\\Python\\Python313\\Lib\\site-packages\\sklearn\\base.py:474: FutureWarning: `BaseEstimator._validate_data` is deprecated in 1.6 and will be removed in 1.7. Use `sklearn.utils.validation.validate_data` instead. This function becomes public and is part of the scikit-learn developer API.\n",
      "  warnings.warn(\n",
      "c:\\Users\\MMM\\AppData\\Local\\Programs\\Python\\Python313\\Lib\\site-packages\\sklearn\\base.py:474: FutureWarning: `BaseEstimator._validate_data` is deprecated in 1.6 and will be removed in 1.7. Use `sklearn.utils.validation.validate_data` instead. This function becomes public and is part of the scikit-learn developer API.\n",
      "  warnings.warn(\n"
     ]
    },
    {
     "name": "stdout",
     "output_type": "stream",
     "text": [
      "[CV] END ..max_samples=1.0, n_estimators=50, random_state=42; total time=  13.2s\n"
     ]
    },
    {
     "name": "stderr",
     "output_type": "stream",
     "text": [
      "c:\\Users\\MMM\\AppData\\Local\\Programs\\Python\\Python313\\Lib\\site-packages\\sklearn\\base.py:474: FutureWarning: `BaseEstimator._validate_data` is deprecated in 1.6 and will be removed in 1.7. Use `sklearn.utils.validation.validate_data` instead. This function becomes public and is part of the scikit-learn developer API.\n",
      "  warnings.warn(\n",
      "c:\\Users\\MMM\\AppData\\Local\\Programs\\Python\\Python313\\Lib\\site-packages\\sklearn\\base.py:474: FutureWarning: `BaseEstimator._validate_data` is deprecated in 1.6 and will be removed in 1.7. Use `sklearn.utils.validation.validate_data` instead. This function becomes public and is part of the scikit-learn developer API.\n",
      "  warnings.warn(\n"
     ]
    },
    {
     "name": "stdout",
     "output_type": "stream",
     "text": [
      "[CV] END ..max_samples=1.0, n_estimators=50, random_state=42; total time=  13.3s\n"
     ]
    },
    {
     "name": "stderr",
     "output_type": "stream",
     "text": [
      "c:\\Users\\MMM\\AppData\\Local\\Programs\\Python\\Python313\\Lib\\site-packages\\sklearn\\base.py:474: FutureWarning: `BaseEstimator._validate_data` is deprecated in 1.6 and will be removed in 1.7. Use `sklearn.utils.validation.validate_data` instead. This function becomes public and is part of the scikit-learn developer API.\n",
      "  warnings.warn(\n",
      "c:\\Users\\MMM\\AppData\\Local\\Programs\\Python\\Python313\\Lib\\site-packages\\sklearn\\base.py:474: FutureWarning: `BaseEstimator._validate_data` is deprecated in 1.6 and will be removed in 1.7. Use `sklearn.utils.validation.validate_data` instead. This function becomes public and is part of the scikit-learn developer API.\n",
      "  warnings.warn(\n"
     ]
    },
    {
     "name": "stdout",
     "output_type": "stream",
     "text": [
      "[CV] END ..max_samples=1.0, n_estimators=50, random_state=42; total time=  13.2s\n"
     ]
    },
    {
     "name": "stderr",
     "output_type": "stream",
     "text": [
      "c:\\Users\\MMM\\AppData\\Local\\Programs\\Python\\Python313\\Lib\\site-packages\\sklearn\\base.py:474: FutureWarning: `BaseEstimator._validate_data` is deprecated in 1.6 and will be removed in 1.7. Use `sklearn.utils.validation.validate_data` instead. This function becomes public and is part of the scikit-learn developer API.\n",
      "  warnings.warn(\n",
      "c:\\Users\\MMM\\AppData\\Local\\Programs\\Python\\Python313\\Lib\\site-packages\\sklearn\\base.py:474: FutureWarning: `BaseEstimator._validate_data` is deprecated in 1.6 and will be removed in 1.7. Use `sklearn.utils.validation.validate_data` instead. This function becomes public and is part of the scikit-learn developer API.\n",
      "  warnings.warn(\n"
     ]
    },
    {
     "name": "stdout",
     "output_type": "stream",
     "text": [
      "[CV] END ..max_samples=1.0, n_estimators=50, random_state=42; total time=  13.2s\n"
     ]
    },
    {
     "name": "stderr",
     "output_type": "stream",
     "text": [
      "c:\\Users\\MMM\\AppData\\Local\\Programs\\Python\\Python313\\Lib\\site-packages\\sklearn\\base.py:474: FutureWarning: `BaseEstimator._validate_data` is deprecated in 1.6 and will be removed in 1.7. Use `sklearn.utils.validation.validate_data` instead. This function becomes public and is part of the scikit-learn developer API.\n",
      "  warnings.warn(\n",
      "c:\\Users\\MMM\\AppData\\Local\\Programs\\Python\\Python313\\Lib\\site-packages\\sklearn\\base.py:474: FutureWarning: `BaseEstimator._validate_data` is deprecated in 1.6 and will be removed in 1.7. Use `sklearn.utils.validation.validate_data` instead. This function becomes public and is part of the scikit-learn developer API.\n",
      "  warnings.warn(\n"
     ]
    },
    {
     "name": "stdout",
     "output_type": "stream",
     "text": [
      "[CV] END ..max_samples=1.0, n_estimators=50, random_state=42; total time=  13.3s\n"
     ]
    },
    {
     "name": "stderr",
     "output_type": "stream",
     "text": [
      "c:\\Users\\MMM\\AppData\\Local\\Programs\\Python\\Python313\\Lib\\site-packages\\sklearn\\base.py:474: FutureWarning: `BaseEstimator._validate_data` is deprecated in 1.6 and will be removed in 1.7. Use `sklearn.utils.validation.validate_data` instead. This function becomes public and is part of the scikit-learn developer API.\n",
      "  warnings.warn(\n",
      "c:\\Users\\MMM\\AppData\\Local\\Programs\\Python\\Python313\\Lib\\site-packages\\sklearn\\base.py:474: FutureWarning: `BaseEstimator._validate_data` is deprecated in 1.6 and will be removed in 1.7. Use `sklearn.utils.validation.validate_data` instead. This function becomes public and is part of the scikit-learn developer API.\n",
      "  warnings.warn(\n"
     ]
    },
    {
     "name": "stdout",
     "output_type": "stream",
     "text": [
      "[CV] END .max_samples=1.0, n_estimators=100, random_state=42; total time=  28.1s\n"
     ]
    },
    {
     "name": "stderr",
     "output_type": "stream",
     "text": [
      "c:\\Users\\MMM\\AppData\\Local\\Programs\\Python\\Python313\\Lib\\site-packages\\sklearn\\base.py:474: FutureWarning: `BaseEstimator._validate_data` is deprecated in 1.6 and will be removed in 1.7. Use `sklearn.utils.validation.validate_data` instead. This function becomes public and is part of the scikit-learn developer API.\n",
      "  warnings.warn(\n",
      "c:\\Users\\MMM\\AppData\\Local\\Programs\\Python\\Python313\\Lib\\site-packages\\sklearn\\base.py:474: FutureWarning: `BaseEstimator._validate_data` is deprecated in 1.6 and will be removed in 1.7. Use `sklearn.utils.validation.validate_data` instead. This function becomes public and is part of the scikit-learn developer API.\n",
      "  warnings.warn(\n"
     ]
    },
    {
     "name": "stdout",
     "output_type": "stream",
     "text": [
      "[CV] END .max_samples=1.0, n_estimators=100, random_state=42; total time=  26.6s\n"
     ]
    },
    {
     "name": "stderr",
     "output_type": "stream",
     "text": [
      "c:\\Users\\MMM\\AppData\\Local\\Programs\\Python\\Python313\\Lib\\site-packages\\sklearn\\base.py:474: FutureWarning: `BaseEstimator._validate_data` is deprecated in 1.6 and will be removed in 1.7. Use `sklearn.utils.validation.validate_data` instead. This function becomes public and is part of the scikit-learn developer API.\n",
      "  warnings.warn(\n",
      "c:\\Users\\MMM\\AppData\\Local\\Programs\\Python\\Python313\\Lib\\site-packages\\sklearn\\base.py:474: FutureWarning: `BaseEstimator._validate_data` is deprecated in 1.6 and will be removed in 1.7. Use `sklearn.utils.validation.validate_data` instead. This function becomes public and is part of the scikit-learn developer API.\n",
      "  warnings.warn(\n"
     ]
    },
    {
     "name": "stdout",
     "output_type": "stream",
     "text": [
      "[CV] END .max_samples=1.0, n_estimators=100, random_state=42; total time=  26.4s\n"
     ]
    },
    {
     "name": "stderr",
     "output_type": "stream",
     "text": [
      "c:\\Users\\MMM\\AppData\\Local\\Programs\\Python\\Python313\\Lib\\site-packages\\sklearn\\base.py:474: FutureWarning: `BaseEstimator._validate_data` is deprecated in 1.6 and will be removed in 1.7. Use `sklearn.utils.validation.validate_data` instead. This function becomes public and is part of the scikit-learn developer API.\n",
      "  warnings.warn(\n",
      "c:\\Users\\MMM\\AppData\\Local\\Programs\\Python\\Python313\\Lib\\site-packages\\sklearn\\base.py:474: FutureWarning: `BaseEstimator._validate_data` is deprecated in 1.6 and will be removed in 1.7. Use `sklearn.utils.validation.validate_data` instead. This function becomes public and is part of the scikit-learn developer API.\n",
      "  warnings.warn(\n"
     ]
    },
    {
     "name": "stdout",
     "output_type": "stream",
     "text": [
      "[CV] END .max_samples=1.0, n_estimators=100, random_state=42; total time=  26.3s\n"
     ]
    },
    {
     "name": "stderr",
     "output_type": "stream",
     "text": [
      "c:\\Users\\MMM\\AppData\\Local\\Programs\\Python\\Python313\\Lib\\site-packages\\sklearn\\base.py:474: FutureWarning: `BaseEstimator._validate_data` is deprecated in 1.6 and will be removed in 1.7. Use `sklearn.utils.validation.validate_data` instead. This function becomes public and is part of the scikit-learn developer API.\n",
      "  warnings.warn(\n",
      "c:\\Users\\MMM\\AppData\\Local\\Programs\\Python\\Python313\\Lib\\site-packages\\sklearn\\base.py:474: FutureWarning: `BaseEstimator._validate_data` is deprecated in 1.6 and will be removed in 1.7. Use `sklearn.utils.validation.validate_data` instead. This function becomes public and is part of the scikit-learn developer API.\n",
      "  warnings.warn(\n"
     ]
    },
    {
     "name": "stdout",
     "output_type": "stream",
     "text": [
      "[CV] END .max_samples=1.0, n_estimators=100, random_state=42; total time=  26.4s\n"
     ]
    },
    {
     "name": "stderr",
     "output_type": "stream",
     "text": [
      "c:\\Users\\MMM\\AppData\\Local\\Programs\\Python\\Python313\\Lib\\site-packages\\sklearn\\base.py:474: FutureWarning: `BaseEstimator._validate_data` is deprecated in 1.6 and will be removed in 1.7. Use `sklearn.utils.validation.validate_data` instead. This function becomes public and is part of the scikit-learn developer API.\n",
      "  warnings.warn(\n",
      "c:\\Users\\MMM\\AppData\\Local\\Programs\\Python\\Python313\\Lib\\site-packages\\sklearn\\base.py:474: FutureWarning: `BaseEstimator._validate_data` is deprecated in 1.6 and will be removed in 1.7. Use `sklearn.utils.validation.validate_data` instead. This function becomes public and is part of the scikit-learn developer API.\n",
      "  warnings.warn(\n"
     ]
    },
    {
     "name": "stdout",
     "output_type": "stream",
     "text": [
      "[CV] END .max_samples=1.0, n_estimators=150, random_state=42; total time=  39.9s\n"
     ]
    },
    {
     "name": "stderr",
     "output_type": "stream",
     "text": [
      "c:\\Users\\MMM\\AppData\\Local\\Programs\\Python\\Python313\\Lib\\site-packages\\sklearn\\base.py:474: FutureWarning: `BaseEstimator._validate_data` is deprecated in 1.6 and will be removed in 1.7. Use `sklearn.utils.validation.validate_data` instead. This function becomes public and is part of the scikit-learn developer API.\n",
      "  warnings.warn(\n",
      "c:\\Users\\MMM\\AppData\\Local\\Programs\\Python\\Python313\\Lib\\site-packages\\sklearn\\base.py:474: FutureWarning: `BaseEstimator._validate_data` is deprecated in 1.6 and will be removed in 1.7. Use `sklearn.utils.validation.validate_data` instead. This function becomes public and is part of the scikit-learn developer API.\n",
      "  warnings.warn(\n"
     ]
    },
    {
     "name": "stdout",
     "output_type": "stream",
     "text": [
      "[CV] END .max_samples=1.0, n_estimators=150, random_state=42; total time=  39.8s\n"
     ]
    },
    {
     "name": "stderr",
     "output_type": "stream",
     "text": [
      "c:\\Users\\MMM\\AppData\\Local\\Programs\\Python\\Python313\\Lib\\site-packages\\sklearn\\base.py:474: FutureWarning: `BaseEstimator._validate_data` is deprecated in 1.6 and will be removed in 1.7. Use `sklearn.utils.validation.validate_data` instead. This function becomes public and is part of the scikit-learn developer API.\n",
      "  warnings.warn(\n",
      "c:\\Users\\MMM\\AppData\\Local\\Programs\\Python\\Python313\\Lib\\site-packages\\sklearn\\base.py:474: FutureWarning: `BaseEstimator._validate_data` is deprecated in 1.6 and will be removed in 1.7. Use `sklearn.utils.validation.validate_data` instead. This function becomes public and is part of the scikit-learn developer API.\n",
      "  warnings.warn(\n"
     ]
    },
    {
     "name": "stdout",
     "output_type": "stream",
     "text": [
      "[CV] END .max_samples=1.0, n_estimators=150, random_state=42; total time=  39.7s\n"
     ]
    },
    {
     "name": "stderr",
     "output_type": "stream",
     "text": [
      "c:\\Users\\MMM\\AppData\\Local\\Programs\\Python\\Python313\\Lib\\site-packages\\sklearn\\base.py:474: FutureWarning: `BaseEstimator._validate_data` is deprecated in 1.6 and will be removed in 1.7. Use `sklearn.utils.validation.validate_data` instead. This function becomes public and is part of the scikit-learn developer API.\n",
      "  warnings.warn(\n",
      "c:\\Users\\MMM\\AppData\\Local\\Programs\\Python\\Python313\\Lib\\site-packages\\sklearn\\base.py:474: FutureWarning: `BaseEstimator._validate_data` is deprecated in 1.6 and will be removed in 1.7. Use `sklearn.utils.validation.validate_data` instead. This function becomes public and is part of the scikit-learn developer API.\n",
      "  warnings.warn(\n"
     ]
    },
    {
     "name": "stdout",
     "output_type": "stream",
     "text": [
      "[CV] END .max_samples=1.0, n_estimators=150, random_state=42; total time=  40.2s\n"
     ]
    },
    {
     "name": "stderr",
     "output_type": "stream",
     "text": [
      "c:\\Users\\MMM\\AppData\\Local\\Programs\\Python\\Python313\\Lib\\site-packages\\sklearn\\base.py:474: FutureWarning: `BaseEstimator._validate_data` is deprecated in 1.6 and will be removed in 1.7. Use `sklearn.utils.validation.validate_data` instead. This function becomes public and is part of the scikit-learn developer API.\n",
      "  warnings.warn(\n",
      "c:\\Users\\MMM\\AppData\\Local\\Programs\\Python\\Python313\\Lib\\site-packages\\sklearn\\base.py:474: FutureWarning: `BaseEstimator._validate_data` is deprecated in 1.6 and will be removed in 1.7. Use `sklearn.utils.validation.validate_data` instead. This function becomes public and is part of the scikit-learn developer API.\n",
      "  warnings.warn(\n"
     ]
    },
    {
     "name": "stdout",
     "output_type": "stream",
     "text": [
      "[CV] END .max_samples=1.0, n_estimators=150, random_state=42; total time=  40.2s\n"
     ]
    },
    {
     "name": "stderr",
     "output_type": "stream",
     "text": [
      "c:\\Users\\MMM\\AppData\\Local\\Programs\\Python\\Python313\\Lib\\site-packages\\sklearn\\base.py:474: FutureWarning: `BaseEstimator._validate_data` is deprecated in 1.6 and will be removed in 1.7. Use `sklearn.utils.validation.validate_data` instead. This function becomes public and is part of the scikit-learn developer API.\n",
      "  warnings.warn(\n"
     ]
    },
    {
     "name": "stdout",
     "output_type": "stream",
     "text": [
      "Best Parameters for Bagging: {'max_samples': 0.5, 'n_estimators': 150, 'random_state': 42}\n"
     ]
    }
   ],
   "source": [
    "print(\"Hyperparameter Tuning for Bagging:\")\n",
    "\n",
    "# Define parameter grid for Bagging Classifier\n",
    "param_grid_bag = {\n",
    "    'n_estimators': [50, 100, 150],     # Number of base estimators\n",
    "    'max_samples': [0.5, 0.7, 1.0],     # Fraction of samples to draw\n",
    "    'random_state': [42]                # Ensure reproducibility\n",
    "}\n",
    "\n",
    "# Set up GridSearchCV with BaggingClassifier and the defined parameter grid\n",
    "grid_search_bag = GridSearchCV(\n",
    "    estimator=BaggingClassifier(),\n",
    "    param_grid=param_grid_bag,\n",
    "    scoring='f1',        # Scoring based on F1 score\n",
    "    verbose=2,           # Display detailed progress\n",
    "    error_score='raise'  # Raise error if an issue occurs\n",
    ")\n",
    "\n",
    "# Fit the grid search to training data\n",
    "grid_search_bag.fit(X_train, y_train)\n",
    "\n",
    "# Output the best parameters found during tuning\n",
    "print(\"Best Parameters for Bagging:\", grid_search_bag.best_params_)\n"
   ]
  },
  {
   "cell_type": "markdown",
   "metadata": {},
   "source": [
    "### Validation"
   ]
  },
  {
   "cell_type": "code",
   "execution_count": 9,
   "metadata": {},
   "outputs": [
    {
     "name": "stderr",
     "output_type": "stream",
     "text": [
      "c:\\Users\\MMM\\AppData\\Local\\Programs\\Python\\Python313\\Lib\\site-packages\\sklearn\\base.py:474: FutureWarning: `BaseEstimator._validate_data` is deprecated in 1.6 and will be removed in 1.7. Use `sklearn.utils.validation.validate_data` instead. This function becomes public and is part of the scikit-learn developer API.\n",
      "  warnings.warn(\n"
     ]
    },
    {
     "name": "stdout",
     "output_type": "stream",
     "text": [
      "Accuracy: 0.661828991082357\n",
      "F1 Score: 0.6026707755521314\n",
      "Confusion Matrix:\n",
      " [[9273 3776]\n",
      " [3960 5867]]\n"
     ]
    }
   ],
   "source": [
    "# Make predictions using the best model found from grid search\n",
    "y_pred_bag = grid_search_bag.best_estimator_.predict(X_valid)\n",
    "\n",
    "# Calculate evaluation metrics\n",
    "accuracy = accuracy_score(y_valid, y_pred_bag)\n",
    "f1 = f1_score(y_valid, y_pred_bag)\n",
    "conf_matrix = confusion_matrix(y_valid, y_pred_bag)\n",
    "\n",
    "# Print the evaluation results\n",
    "print(\"Accuracy:\", accuracy)\n",
    "print(\"F1 Score:\", f1)\n",
    "print(\"Confusion Matrix:\\n\", conf_matrix)\n"
   ]
  },
  {
   "cell_type": "markdown",
   "metadata": {},
   "source": [
    "### Class definition"
   ]
  },
  {
   "cell_type": "code",
   "execution_count": 10,
   "metadata": {},
   "outputs": [],
   "source": [
    "class AdaBoostClassifier(ClassifierMixin, BaseEstimator):\n",
    "\n",
    "    _parameter_constraints = {\n",
    "        \"max_depth\": [int, None],\n",
    "        \"n_estimators\": [int, None],\n",
    "        \"learning_rate\": [float, int],\n",
    "        \"random_state\": [int, None],\n",
    "    }\n",
    "\n",
    "    def __init__(self, max_depth=1, n_estimators=50, learning_rate=1.0, random_state=None):\n",
    "        self.max_depth = max_depth\n",
    "        self.n_estimators = n_estimators\n",
    "        self.learning_rate = learning_rate\n",
    "        self.random_state = random_state\n",
    "\n",
    "    @_fit_context(prefer_skip_nested_validation=True)\n",
    "    def fit(self, X, y):\n",
    "        # Validate input data and ensure it's a classification task\n",
    "        X, y = self._validate_data(X, y)\n",
    "        check_classification_targets(y)\n",
    "\n",
    "        # Label encoding and initialization\n",
    "        self.label_encoder = LabelEncoder()\n",
    "        y = self.label_encoder.fit_transform(y)\n",
    "        self.classes_ = self.label_encoder.classes_\n",
    "\n",
    "        self.models_ = []\n",
    "        self.alphas_ = []\n",
    "        n_samples = len(y)\n",
    "\n",
    "        # Initialize sample weights equally\n",
    "        self.sample_weights_ = np.ones(n_samples) / n_samples\n",
    "\n",
    "        # Ensure there's more than one class\n",
    "        if len(np.unique(y)) == 1:\n",
    "            raise ValueError(\"Classifier can't predict when only one class is present.\")\n",
    "\n",
    "        for i in range(self.n_estimators):\n",
    "            # Train weak learner (decision tree)\n",
    "            model = DecisionTreeClassifier(max_depth=self.max_depth, random_state=self.random_state)\n",
    "            model.fit(X, y, sample_weight=self.sample_weights_)\n",
    "\n",
    "            # Calculate weighted error\n",
    "            y_pred = model.predict(X)\n",
    "            incorrect = y_pred != y\n",
    "            weighted_error = np.dot(self.sample_weights_, incorrect)\n",
    "\n",
    "            # Stop training if error is too high or too low\n",
    "            if weighted_error >= 0.5 or weighted_error <= 1e-5:\n",
    "                break\n",
    "\n",
    "            # Compute model weight (alpha)\n",
    "            alpha = self.learning_rate * np.log((1 - weighted_error) / weighted_error)\n",
    "\n",
    "            # Update sample weights (increase weight of misclassified samples)\n",
    "            self.sample_weights_ *= np.exp(alpha * incorrect)\n",
    "            self.sample_weights_ /= np.sum(self.sample_weights_)\n",
    "\n",
    "            # Store the model and its weight\n",
    "            self.models_.append(model)\n",
    "            self.alphas_.append(alpha)\n",
    "\n",
    "        self.is_fitted_ = True\n",
    "        return self\n",
    "\n",
    "    def predict(self, X):\n",
    "        check_is_fitted(self)\n",
    "        X = check_array(X)\n",
    "\n",
    "        # Initialize prediction scores for each class\n",
    "        pred = np.zeros((X.shape[0], len(self.classes_)))\n",
    "        for model, alpha in zip(self.models_, self.alphas_):\n",
    "            predictions = model.predict(X)\n",
    "            for i, cls in enumerate(self.classes_):\n",
    "                pred[:, i] += alpha * (predictions == cls)\n",
    "\n",
    "        # Return the class with the highest score\n",
    "        return self.classes_[np.argmax(pred, axis=1)]\n"
   ]
  },
  {
   "cell_type": "markdown",
   "metadata": {},
   "source": [
    "### Hyperparameter tunning"
   ]
  },
  {
   "cell_type": "code",
   "execution_count": 11,
   "metadata": {},
   "outputs": [
    {
     "name": "stdout",
     "output_type": "stream",
     "text": [
      "Hyperparameter Tuning for AdaBoost:\n",
      "Fitting 5 folds for each of 12 candidates, totalling 60 fits\n"
     ]
    },
    {
     "name": "stderr",
     "output_type": "stream",
     "text": [
      "c:\\Users\\MMM\\AppData\\Local\\Programs\\Python\\Python313\\Lib\\site-packages\\sklearn\\base.py:474: FutureWarning: `BaseEstimator._validate_data` is deprecated in 1.6 and will be removed in 1.7. Use `sklearn.utils.validation.validate_data` instead. This function becomes public and is part of the scikit-learn developer API.\n",
      "  warnings.warn(\n"
     ]
    },
    {
     "name": "stdout",
     "output_type": "stream",
     "text": [
      "[CV] END learning_rate=0.01, n_estimators=50, random_state=42; total time=   1.6s\n"
     ]
    },
    {
     "name": "stderr",
     "output_type": "stream",
     "text": [
      "c:\\Users\\MMM\\AppData\\Local\\Programs\\Python\\Python313\\Lib\\site-packages\\sklearn\\base.py:474: FutureWarning: `BaseEstimator._validate_data` is deprecated in 1.6 and will be removed in 1.7. Use `sklearn.utils.validation.validate_data` instead. This function becomes public and is part of the scikit-learn developer API.\n",
      "  warnings.warn(\n"
     ]
    },
    {
     "name": "stdout",
     "output_type": "stream",
     "text": [
      "[CV] END learning_rate=0.01, n_estimators=50, random_state=42; total time=   1.4s\n"
     ]
    },
    {
     "name": "stderr",
     "output_type": "stream",
     "text": [
      "c:\\Users\\MMM\\AppData\\Local\\Programs\\Python\\Python313\\Lib\\site-packages\\sklearn\\base.py:474: FutureWarning: `BaseEstimator._validate_data` is deprecated in 1.6 and will be removed in 1.7. Use `sklearn.utils.validation.validate_data` instead. This function becomes public and is part of the scikit-learn developer API.\n",
      "  warnings.warn(\n"
     ]
    },
    {
     "name": "stdout",
     "output_type": "stream",
     "text": [
      "[CV] END learning_rate=0.01, n_estimators=50, random_state=42; total time=   1.3s\n"
     ]
    },
    {
     "name": "stderr",
     "output_type": "stream",
     "text": [
      "c:\\Users\\MMM\\AppData\\Local\\Programs\\Python\\Python313\\Lib\\site-packages\\sklearn\\base.py:474: FutureWarning: `BaseEstimator._validate_data` is deprecated in 1.6 and will be removed in 1.7. Use `sklearn.utils.validation.validate_data` instead. This function becomes public and is part of the scikit-learn developer API.\n",
      "  warnings.warn(\n"
     ]
    },
    {
     "name": "stdout",
     "output_type": "stream",
     "text": [
      "[CV] END learning_rate=0.01, n_estimators=50, random_state=42; total time=   1.3s\n"
     ]
    },
    {
     "name": "stderr",
     "output_type": "stream",
     "text": [
      "c:\\Users\\MMM\\AppData\\Local\\Programs\\Python\\Python313\\Lib\\site-packages\\sklearn\\base.py:474: FutureWarning: `BaseEstimator._validate_data` is deprecated in 1.6 and will be removed in 1.7. Use `sklearn.utils.validation.validate_data` instead. This function becomes public and is part of the scikit-learn developer API.\n",
      "  warnings.warn(\n"
     ]
    },
    {
     "name": "stdout",
     "output_type": "stream",
     "text": [
      "[CV] END learning_rate=0.01, n_estimators=50, random_state=42; total time=   1.3s\n"
     ]
    },
    {
     "name": "stderr",
     "output_type": "stream",
     "text": [
      "c:\\Users\\MMM\\AppData\\Local\\Programs\\Python\\Python313\\Lib\\site-packages\\sklearn\\base.py:474: FutureWarning: `BaseEstimator._validate_data` is deprecated in 1.6 and will be removed in 1.7. Use `sklearn.utils.validation.validate_data` instead. This function becomes public and is part of the scikit-learn developer API.\n",
      "  warnings.warn(\n"
     ]
    },
    {
     "name": "stdout",
     "output_type": "stream",
     "text": [
      "[CV] END learning_rate=0.01, n_estimators=100, random_state=42; total time=   2.8s\n"
     ]
    },
    {
     "name": "stderr",
     "output_type": "stream",
     "text": [
      "c:\\Users\\MMM\\AppData\\Local\\Programs\\Python\\Python313\\Lib\\site-packages\\sklearn\\base.py:474: FutureWarning: `BaseEstimator._validate_data` is deprecated in 1.6 and will be removed in 1.7. Use `sklearn.utils.validation.validate_data` instead. This function becomes public and is part of the scikit-learn developer API.\n",
      "  warnings.warn(\n"
     ]
    },
    {
     "name": "stdout",
     "output_type": "stream",
     "text": [
      "[CV] END learning_rate=0.01, n_estimators=100, random_state=42; total time=   2.7s\n"
     ]
    },
    {
     "name": "stderr",
     "output_type": "stream",
     "text": [
      "c:\\Users\\MMM\\AppData\\Local\\Programs\\Python\\Python313\\Lib\\site-packages\\sklearn\\base.py:474: FutureWarning: `BaseEstimator._validate_data` is deprecated in 1.6 and will be removed in 1.7. Use `sklearn.utils.validation.validate_data` instead. This function becomes public and is part of the scikit-learn developer API.\n",
      "  warnings.warn(\n"
     ]
    },
    {
     "name": "stdout",
     "output_type": "stream",
     "text": [
      "[CV] END learning_rate=0.01, n_estimators=100, random_state=42; total time=   2.7s\n"
     ]
    },
    {
     "name": "stderr",
     "output_type": "stream",
     "text": [
      "c:\\Users\\MMM\\AppData\\Local\\Programs\\Python\\Python313\\Lib\\site-packages\\sklearn\\base.py:474: FutureWarning: `BaseEstimator._validate_data` is deprecated in 1.6 and will be removed in 1.7. Use `sklearn.utils.validation.validate_data` instead. This function becomes public and is part of the scikit-learn developer API.\n",
      "  warnings.warn(\n"
     ]
    },
    {
     "name": "stdout",
     "output_type": "stream",
     "text": [
      "[CV] END learning_rate=0.01, n_estimators=100, random_state=42; total time=   3.0s\n"
     ]
    },
    {
     "name": "stderr",
     "output_type": "stream",
     "text": [
      "c:\\Users\\MMM\\AppData\\Local\\Programs\\Python\\Python313\\Lib\\site-packages\\sklearn\\base.py:474: FutureWarning: `BaseEstimator._validate_data` is deprecated in 1.6 and will be removed in 1.7. Use `sklearn.utils.validation.validate_data` instead. This function becomes public and is part of the scikit-learn developer API.\n",
      "  warnings.warn(\n"
     ]
    },
    {
     "name": "stdout",
     "output_type": "stream",
     "text": [
      "[CV] END learning_rate=0.01, n_estimators=100, random_state=42; total time=   2.9s\n"
     ]
    },
    {
     "name": "stderr",
     "output_type": "stream",
     "text": [
      "c:\\Users\\MMM\\AppData\\Local\\Programs\\Python\\Python313\\Lib\\site-packages\\sklearn\\base.py:474: FutureWarning: `BaseEstimator._validate_data` is deprecated in 1.6 and will be removed in 1.7. Use `sklearn.utils.validation.validate_data` instead. This function becomes public and is part of the scikit-learn developer API.\n",
      "  warnings.warn(\n"
     ]
    },
    {
     "name": "stdout",
     "output_type": "stream",
     "text": [
      "[CV] END learning_rate=0.01, n_estimators=200, random_state=42; total time=   5.4s\n"
     ]
    },
    {
     "name": "stderr",
     "output_type": "stream",
     "text": [
      "c:\\Users\\MMM\\AppData\\Local\\Programs\\Python\\Python313\\Lib\\site-packages\\sklearn\\base.py:474: FutureWarning: `BaseEstimator._validate_data` is deprecated in 1.6 and will be removed in 1.7. Use `sklearn.utils.validation.validate_data` instead. This function becomes public and is part of the scikit-learn developer API.\n",
      "  warnings.warn(\n"
     ]
    },
    {
     "name": "stdout",
     "output_type": "stream",
     "text": [
      "[CV] END learning_rate=0.01, n_estimators=200, random_state=42; total time=   5.8s\n"
     ]
    },
    {
     "name": "stderr",
     "output_type": "stream",
     "text": [
      "c:\\Users\\MMM\\AppData\\Local\\Programs\\Python\\Python313\\Lib\\site-packages\\sklearn\\base.py:474: FutureWarning: `BaseEstimator._validate_data` is deprecated in 1.6 and will be removed in 1.7. Use `sklearn.utils.validation.validate_data` instead. This function becomes public and is part of the scikit-learn developer API.\n",
      "  warnings.warn(\n"
     ]
    },
    {
     "name": "stdout",
     "output_type": "stream",
     "text": [
      "[CV] END learning_rate=0.01, n_estimators=200, random_state=42; total time=   6.1s\n"
     ]
    },
    {
     "name": "stderr",
     "output_type": "stream",
     "text": [
      "c:\\Users\\MMM\\AppData\\Local\\Programs\\Python\\Python313\\Lib\\site-packages\\sklearn\\base.py:474: FutureWarning: `BaseEstimator._validate_data` is deprecated in 1.6 and will be removed in 1.7. Use `sklearn.utils.validation.validate_data` instead. This function becomes public and is part of the scikit-learn developer API.\n",
      "  warnings.warn(\n"
     ]
    },
    {
     "name": "stdout",
     "output_type": "stream",
     "text": [
      "[CV] END learning_rate=0.01, n_estimators=200, random_state=42; total time=   5.3s\n"
     ]
    },
    {
     "name": "stderr",
     "output_type": "stream",
     "text": [
      "c:\\Users\\MMM\\AppData\\Local\\Programs\\Python\\Python313\\Lib\\site-packages\\sklearn\\base.py:474: FutureWarning: `BaseEstimator._validate_data` is deprecated in 1.6 and will be removed in 1.7. Use `sklearn.utils.validation.validate_data` instead. This function becomes public and is part of the scikit-learn developer API.\n",
      "  warnings.warn(\n"
     ]
    },
    {
     "name": "stdout",
     "output_type": "stream",
     "text": [
      "[CV] END learning_rate=0.01, n_estimators=200, random_state=42; total time=   5.3s\n"
     ]
    },
    {
     "name": "stderr",
     "output_type": "stream",
     "text": [
      "c:\\Users\\MMM\\AppData\\Local\\Programs\\Python\\Python313\\Lib\\site-packages\\sklearn\\base.py:474: FutureWarning: `BaseEstimator._validate_data` is deprecated in 1.6 and will be removed in 1.7. Use `sklearn.utils.validation.validate_data` instead. This function becomes public and is part of the scikit-learn developer API.\n",
      "  warnings.warn(\n"
     ]
    },
    {
     "name": "stdout",
     "output_type": "stream",
     "text": [
      "[CV] END learning_rate=0.1, n_estimators=50, random_state=42; total time=   1.3s\n"
     ]
    },
    {
     "name": "stderr",
     "output_type": "stream",
     "text": [
      "c:\\Users\\MMM\\AppData\\Local\\Programs\\Python\\Python313\\Lib\\site-packages\\sklearn\\base.py:474: FutureWarning: `BaseEstimator._validate_data` is deprecated in 1.6 and will be removed in 1.7. Use `sklearn.utils.validation.validate_data` instead. This function becomes public and is part of the scikit-learn developer API.\n",
      "  warnings.warn(\n"
     ]
    },
    {
     "name": "stdout",
     "output_type": "stream",
     "text": [
      "[CV] END learning_rate=0.1, n_estimators=50, random_state=42; total time=   1.4s\n"
     ]
    },
    {
     "name": "stderr",
     "output_type": "stream",
     "text": [
      "c:\\Users\\MMM\\AppData\\Local\\Programs\\Python\\Python313\\Lib\\site-packages\\sklearn\\base.py:474: FutureWarning: `BaseEstimator._validate_data` is deprecated in 1.6 and will be removed in 1.7. Use `sklearn.utils.validation.validate_data` instead. This function becomes public and is part of the scikit-learn developer API.\n",
      "  warnings.warn(\n"
     ]
    },
    {
     "name": "stdout",
     "output_type": "stream",
     "text": [
      "[CV] END learning_rate=0.1, n_estimators=50, random_state=42; total time=   1.4s\n"
     ]
    },
    {
     "name": "stderr",
     "output_type": "stream",
     "text": [
      "c:\\Users\\MMM\\AppData\\Local\\Programs\\Python\\Python313\\Lib\\site-packages\\sklearn\\base.py:474: FutureWarning: `BaseEstimator._validate_data` is deprecated in 1.6 and will be removed in 1.7. Use `sklearn.utils.validation.validate_data` instead. This function becomes public and is part of the scikit-learn developer API.\n",
      "  warnings.warn(\n"
     ]
    },
    {
     "name": "stdout",
     "output_type": "stream",
     "text": [
      "[CV] END learning_rate=0.1, n_estimators=50, random_state=42; total time=   1.3s\n"
     ]
    },
    {
     "name": "stderr",
     "output_type": "stream",
     "text": [
      "c:\\Users\\MMM\\AppData\\Local\\Programs\\Python\\Python313\\Lib\\site-packages\\sklearn\\base.py:474: FutureWarning: `BaseEstimator._validate_data` is deprecated in 1.6 and will be removed in 1.7. Use `sklearn.utils.validation.validate_data` instead. This function becomes public and is part of the scikit-learn developer API.\n",
      "  warnings.warn(\n"
     ]
    },
    {
     "name": "stdout",
     "output_type": "stream",
     "text": [
      "[CV] END learning_rate=0.1, n_estimators=50, random_state=42; total time=   1.3s\n"
     ]
    },
    {
     "name": "stderr",
     "output_type": "stream",
     "text": [
      "c:\\Users\\MMM\\AppData\\Local\\Programs\\Python\\Python313\\Lib\\site-packages\\sklearn\\base.py:474: FutureWarning: `BaseEstimator._validate_data` is deprecated in 1.6 and will be removed in 1.7. Use `sklearn.utils.validation.validate_data` instead. This function becomes public and is part of the scikit-learn developer API.\n",
      "  warnings.warn(\n"
     ]
    },
    {
     "name": "stdout",
     "output_type": "stream",
     "text": [
      "[CV] END learning_rate=0.1, n_estimators=100, random_state=42; total time=   2.6s\n"
     ]
    },
    {
     "name": "stderr",
     "output_type": "stream",
     "text": [
      "c:\\Users\\MMM\\AppData\\Local\\Programs\\Python\\Python313\\Lib\\site-packages\\sklearn\\base.py:474: FutureWarning: `BaseEstimator._validate_data` is deprecated in 1.6 and will be removed in 1.7. Use `sklearn.utils.validation.validate_data` instead. This function becomes public and is part of the scikit-learn developer API.\n",
      "  warnings.warn(\n"
     ]
    },
    {
     "name": "stdout",
     "output_type": "stream",
     "text": [
      "[CV] END learning_rate=0.1, n_estimators=100, random_state=42; total time=   2.6s\n"
     ]
    },
    {
     "name": "stderr",
     "output_type": "stream",
     "text": [
      "c:\\Users\\MMM\\AppData\\Local\\Programs\\Python\\Python313\\Lib\\site-packages\\sklearn\\base.py:474: FutureWarning: `BaseEstimator._validate_data` is deprecated in 1.6 and will be removed in 1.7. Use `sklearn.utils.validation.validate_data` instead. This function becomes public and is part of the scikit-learn developer API.\n",
      "  warnings.warn(\n"
     ]
    },
    {
     "name": "stdout",
     "output_type": "stream",
     "text": [
      "[CV] END learning_rate=0.1, n_estimators=100, random_state=42; total time=   2.6s\n"
     ]
    },
    {
     "name": "stderr",
     "output_type": "stream",
     "text": [
      "c:\\Users\\MMM\\AppData\\Local\\Programs\\Python\\Python313\\Lib\\site-packages\\sklearn\\base.py:474: FutureWarning: `BaseEstimator._validate_data` is deprecated in 1.6 and will be removed in 1.7. Use `sklearn.utils.validation.validate_data` instead. This function becomes public and is part of the scikit-learn developer API.\n",
      "  warnings.warn(\n"
     ]
    },
    {
     "name": "stdout",
     "output_type": "stream",
     "text": [
      "[CV] END learning_rate=0.1, n_estimators=100, random_state=42; total time=   2.6s\n"
     ]
    },
    {
     "name": "stderr",
     "output_type": "stream",
     "text": [
      "c:\\Users\\MMM\\AppData\\Local\\Programs\\Python\\Python313\\Lib\\site-packages\\sklearn\\base.py:474: FutureWarning: `BaseEstimator._validate_data` is deprecated in 1.6 and will be removed in 1.7. Use `sklearn.utils.validation.validate_data` instead. This function becomes public and is part of the scikit-learn developer API.\n",
      "  warnings.warn(\n"
     ]
    },
    {
     "name": "stdout",
     "output_type": "stream",
     "text": [
      "[CV] END learning_rate=0.1, n_estimators=100, random_state=42; total time=   2.7s\n"
     ]
    },
    {
     "name": "stderr",
     "output_type": "stream",
     "text": [
      "c:\\Users\\MMM\\AppData\\Local\\Programs\\Python\\Python313\\Lib\\site-packages\\sklearn\\base.py:474: FutureWarning: `BaseEstimator._validate_data` is deprecated in 1.6 and will be removed in 1.7. Use `sklearn.utils.validation.validate_data` instead. This function becomes public and is part of the scikit-learn developer API.\n",
      "  warnings.warn(\n"
     ]
    },
    {
     "name": "stdout",
     "output_type": "stream",
     "text": [
      "[CV] END learning_rate=0.1, n_estimators=200, random_state=42; total time=   5.2s\n"
     ]
    },
    {
     "name": "stderr",
     "output_type": "stream",
     "text": [
      "c:\\Users\\MMM\\AppData\\Local\\Programs\\Python\\Python313\\Lib\\site-packages\\sklearn\\base.py:474: FutureWarning: `BaseEstimator._validate_data` is deprecated in 1.6 and will be removed in 1.7. Use `sklearn.utils.validation.validate_data` instead. This function becomes public and is part of the scikit-learn developer API.\n",
      "  warnings.warn(\n"
     ]
    },
    {
     "name": "stdout",
     "output_type": "stream",
     "text": [
      "[CV] END learning_rate=0.1, n_estimators=200, random_state=42; total time=   5.3s\n"
     ]
    },
    {
     "name": "stderr",
     "output_type": "stream",
     "text": [
      "c:\\Users\\MMM\\AppData\\Local\\Programs\\Python\\Python313\\Lib\\site-packages\\sklearn\\base.py:474: FutureWarning: `BaseEstimator._validate_data` is deprecated in 1.6 and will be removed in 1.7. Use `sklearn.utils.validation.validate_data` instead. This function becomes public and is part of the scikit-learn developer API.\n",
      "  warnings.warn(\n"
     ]
    },
    {
     "name": "stdout",
     "output_type": "stream",
     "text": [
      "[CV] END learning_rate=0.1, n_estimators=200, random_state=42; total time=   5.3s\n"
     ]
    },
    {
     "name": "stderr",
     "output_type": "stream",
     "text": [
      "c:\\Users\\MMM\\AppData\\Local\\Programs\\Python\\Python313\\Lib\\site-packages\\sklearn\\base.py:474: FutureWarning: `BaseEstimator._validate_data` is deprecated in 1.6 and will be removed in 1.7. Use `sklearn.utils.validation.validate_data` instead. This function becomes public and is part of the scikit-learn developer API.\n",
      "  warnings.warn(\n"
     ]
    },
    {
     "name": "stdout",
     "output_type": "stream",
     "text": [
      "[CV] END learning_rate=0.1, n_estimators=200, random_state=42; total time=   5.2s\n"
     ]
    },
    {
     "name": "stderr",
     "output_type": "stream",
     "text": [
      "c:\\Users\\MMM\\AppData\\Local\\Programs\\Python\\Python313\\Lib\\site-packages\\sklearn\\base.py:474: FutureWarning: `BaseEstimator._validate_data` is deprecated in 1.6 and will be removed in 1.7. Use `sklearn.utils.validation.validate_data` instead. This function becomes public and is part of the scikit-learn developer API.\n",
      "  warnings.warn(\n"
     ]
    },
    {
     "name": "stdout",
     "output_type": "stream",
     "text": [
      "[CV] END learning_rate=0.1, n_estimators=200, random_state=42; total time=   5.7s\n"
     ]
    },
    {
     "name": "stderr",
     "output_type": "stream",
     "text": [
      "c:\\Users\\MMM\\AppData\\Local\\Programs\\Python\\Python313\\Lib\\site-packages\\sklearn\\base.py:474: FutureWarning: `BaseEstimator._validate_data` is deprecated in 1.6 and will be removed in 1.7. Use `sklearn.utils.validation.validate_data` instead. This function becomes public and is part of the scikit-learn developer API.\n",
      "  warnings.warn(\n"
     ]
    },
    {
     "name": "stdout",
     "output_type": "stream",
     "text": [
      "[CV] END ..learning_rate=1, n_estimators=50, random_state=42; total time=   1.3s\n"
     ]
    },
    {
     "name": "stderr",
     "output_type": "stream",
     "text": [
      "c:\\Users\\MMM\\AppData\\Local\\Programs\\Python\\Python313\\Lib\\site-packages\\sklearn\\base.py:474: FutureWarning: `BaseEstimator._validate_data` is deprecated in 1.6 and will be removed in 1.7. Use `sklearn.utils.validation.validate_data` instead. This function becomes public and is part of the scikit-learn developer API.\n",
      "  warnings.warn(\n"
     ]
    },
    {
     "name": "stdout",
     "output_type": "stream",
     "text": [
      "[CV] END ..learning_rate=1, n_estimators=50, random_state=42; total time=   1.2s\n"
     ]
    },
    {
     "name": "stderr",
     "output_type": "stream",
     "text": [
      "c:\\Users\\MMM\\AppData\\Local\\Programs\\Python\\Python313\\Lib\\site-packages\\sklearn\\base.py:474: FutureWarning: `BaseEstimator._validate_data` is deprecated in 1.6 and will be removed in 1.7. Use `sklearn.utils.validation.validate_data` instead. This function becomes public and is part of the scikit-learn developer API.\n",
      "  warnings.warn(\n"
     ]
    },
    {
     "name": "stdout",
     "output_type": "stream",
     "text": [
      "[CV] END ..learning_rate=1, n_estimators=50, random_state=42; total time=   1.4s\n"
     ]
    },
    {
     "name": "stderr",
     "output_type": "stream",
     "text": [
      "c:\\Users\\MMM\\AppData\\Local\\Programs\\Python\\Python313\\Lib\\site-packages\\sklearn\\base.py:474: FutureWarning: `BaseEstimator._validate_data` is deprecated in 1.6 and will be removed in 1.7. Use `sklearn.utils.validation.validate_data` instead. This function becomes public and is part of the scikit-learn developer API.\n",
      "  warnings.warn(\n"
     ]
    },
    {
     "name": "stdout",
     "output_type": "stream",
     "text": [
      "[CV] END ..learning_rate=1, n_estimators=50, random_state=42; total time=   1.3s\n"
     ]
    },
    {
     "name": "stderr",
     "output_type": "stream",
     "text": [
      "c:\\Users\\MMM\\AppData\\Local\\Programs\\Python\\Python313\\Lib\\site-packages\\sklearn\\base.py:474: FutureWarning: `BaseEstimator._validate_data` is deprecated in 1.6 and will be removed in 1.7. Use `sklearn.utils.validation.validate_data` instead. This function becomes public and is part of the scikit-learn developer API.\n",
      "  warnings.warn(\n"
     ]
    },
    {
     "name": "stdout",
     "output_type": "stream",
     "text": [
      "[CV] END ..learning_rate=1, n_estimators=50, random_state=42; total time=   1.3s\n"
     ]
    },
    {
     "name": "stderr",
     "output_type": "stream",
     "text": [
      "c:\\Users\\MMM\\AppData\\Local\\Programs\\Python\\Python313\\Lib\\site-packages\\sklearn\\base.py:474: FutureWarning: `BaseEstimator._validate_data` is deprecated in 1.6 and will be removed in 1.7. Use `sklearn.utils.validation.validate_data` instead. This function becomes public and is part of the scikit-learn developer API.\n",
      "  warnings.warn(\n"
     ]
    },
    {
     "name": "stdout",
     "output_type": "stream",
     "text": [
      "[CV] END .learning_rate=1, n_estimators=100, random_state=42; total time=   2.7s\n"
     ]
    },
    {
     "name": "stderr",
     "output_type": "stream",
     "text": [
      "c:\\Users\\MMM\\AppData\\Local\\Programs\\Python\\Python313\\Lib\\site-packages\\sklearn\\base.py:474: FutureWarning: `BaseEstimator._validate_data` is deprecated in 1.6 and will be removed in 1.7. Use `sklearn.utils.validation.validate_data` instead. This function becomes public and is part of the scikit-learn developer API.\n",
      "  warnings.warn(\n"
     ]
    },
    {
     "name": "stdout",
     "output_type": "stream",
     "text": [
      "[CV] END .learning_rate=1, n_estimators=100, random_state=42; total time=   2.8s\n"
     ]
    },
    {
     "name": "stderr",
     "output_type": "stream",
     "text": [
      "c:\\Users\\MMM\\AppData\\Local\\Programs\\Python\\Python313\\Lib\\site-packages\\sklearn\\base.py:474: FutureWarning: `BaseEstimator._validate_data` is deprecated in 1.6 and will be removed in 1.7. Use `sklearn.utils.validation.validate_data` instead. This function becomes public and is part of the scikit-learn developer API.\n",
      "  warnings.warn(\n"
     ]
    },
    {
     "name": "stdout",
     "output_type": "stream",
     "text": [
      "[CV] END .learning_rate=1, n_estimators=100, random_state=42; total time=   2.7s\n"
     ]
    },
    {
     "name": "stderr",
     "output_type": "stream",
     "text": [
      "c:\\Users\\MMM\\AppData\\Local\\Programs\\Python\\Python313\\Lib\\site-packages\\sklearn\\base.py:474: FutureWarning: `BaseEstimator._validate_data` is deprecated in 1.6 and will be removed in 1.7. Use `sklearn.utils.validation.validate_data` instead. This function becomes public and is part of the scikit-learn developer API.\n",
      "  warnings.warn(\n"
     ]
    },
    {
     "name": "stdout",
     "output_type": "stream",
     "text": [
      "[CV] END .learning_rate=1, n_estimators=100, random_state=42; total time=   2.6s\n"
     ]
    },
    {
     "name": "stderr",
     "output_type": "stream",
     "text": [
      "c:\\Users\\MMM\\AppData\\Local\\Programs\\Python\\Python313\\Lib\\site-packages\\sklearn\\base.py:474: FutureWarning: `BaseEstimator._validate_data` is deprecated in 1.6 and will be removed in 1.7. Use `sklearn.utils.validation.validate_data` instead. This function becomes public and is part of the scikit-learn developer API.\n",
      "  warnings.warn(\n"
     ]
    },
    {
     "name": "stdout",
     "output_type": "stream",
     "text": [
      "[CV] END .learning_rate=1, n_estimators=100, random_state=42; total time=   2.7s\n"
     ]
    },
    {
     "name": "stderr",
     "output_type": "stream",
     "text": [
      "c:\\Users\\MMM\\AppData\\Local\\Programs\\Python\\Python313\\Lib\\site-packages\\sklearn\\base.py:474: FutureWarning: `BaseEstimator._validate_data` is deprecated in 1.6 and will be removed in 1.7. Use `sklearn.utils.validation.validate_data` instead. This function becomes public and is part of the scikit-learn developer API.\n",
      "  warnings.warn(\n"
     ]
    },
    {
     "name": "stdout",
     "output_type": "stream",
     "text": [
      "[CV] END .learning_rate=1, n_estimators=200, random_state=42; total time=   5.5s\n"
     ]
    },
    {
     "name": "stderr",
     "output_type": "stream",
     "text": [
      "c:\\Users\\MMM\\AppData\\Local\\Programs\\Python\\Python313\\Lib\\site-packages\\sklearn\\base.py:474: FutureWarning: `BaseEstimator._validate_data` is deprecated in 1.6 and will be removed in 1.7. Use `sklearn.utils.validation.validate_data` instead. This function becomes public and is part of the scikit-learn developer API.\n",
      "  warnings.warn(\n"
     ]
    },
    {
     "name": "stdout",
     "output_type": "stream",
     "text": [
      "[CV] END .learning_rate=1, n_estimators=200, random_state=42; total time=   6.0s\n"
     ]
    },
    {
     "name": "stderr",
     "output_type": "stream",
     "text": [
      "c:\\Users\\MMM\\AppData\\Local\\Programs\\Python\\Python313\\Lib\\site-packages\\sklearn\\base.py:474: FutureWarning: `BaseEstimator._validate_data` is deprecated in 1.6 and will be removed in 1.7. Use `sklearn.utils.validation.validate_data` instead. This function becomes public and is part of the scikit-learn developer API.\n",
      "  warnings.warn(\n"
     ]
    },
    {
     "name": "stdout",
     "output_type": "stream",
     "text": [
      "[CV] END .learning_rate=1, n_estimators=200, random_state=42; total time=   5.6s\n"
     ]
    },
    {
     "name": "stderr",
     "output_type": "stream",
     "text": [
      "c:\\Users\\MMM\\AppData\\Local\\Programs\\Python\\Python313\\Lib\\site-packages\\sklearn\\base.py:474: FutureWarning: `BaseEstimator._validate_data` is deprecated in 1.6 and will be removed in 1.7. Use `sklearn.utils.validation.validate_data` instead. This function becomes public and is part of the scikit-learn developer API.\n",
      "  warnings.warn(\n"
     ]
    },
    {
     "name": "stdout",
     "output_type": "stream",
     "text": [
      "[CV] END .learning_rate=1, n_estimators=200, random_state=42; total time=   5.4s\n"
     ]
    },
    {
     "name": "stderr",
     "output_type": "stream",
     "text": [
      "c:\\Users\\MMM\\AppData\\Local\\Programs\\Python\\Python313\\Lib\\site-packages\\sklearn\\base.py:474: FutureWarning: `BaseEstimator._validate_data` is deprecated in 1.6 and will be removed in 1.7. Use `sklearn.utils.validation.validate_data` instead. This function becomes public and is part of the scikit-learn developer API.\n",
      "  warnings.warn(\n"
     ]
    },
    {
     "name": "stdout",
     "output_type": "stream",
     "text": [
      "[CV] END .learning_rate=1, n_estimators=200, random_state=42; total time=   5.7s\n",
      "[CV] END .learning_rate=10, n_estimators=50, random_state=42; total time=   0.0s\n",
      "[CV] END .learning_rate=10, n_estimators=50, random_state=42; total time=   0.0s\n"
     ]
    },
    {
     "name": "stderr",
     "output_type": "stream",
     "text": [
      "c:\\Users\\MMM\\AppData\\Local\\Programs\\Python\\Python313\\Lib\\site-packages\\sklearn\\base.py:474: FutureWarning: `BaseEstimator._validate_data` is deprecated in 1.6 and will be removed in 1.7. Use `sklearn.utils.validation.validate_data` instead. This function becomes public and is part of the scikit-learn developer API.\n",
      "  warnings.warn(\n",
      "c:\\Users\\MMM\\AppData\\Local\\Programs\\Python\\Python313\\Lib\\site-packages\\sklearn\\base.py:474: FutureWarning: `BaseEstimator._validate_data` is deprecated in 1.6 and will be removed in 1.7. Use `sklearn.utils.validation.validate_data` instead. This function becomes public and is part of the scikit-learn developer API.\n",
      "  warnings.warn(\n",
      "c:\\Users\\MMM\\AppData\\Local\\Programs\\Python\\Python313\\Lib\\site-packages\\sklearn\\base.py:474: FutureWarning: `BaseEstimator._validate_data` is deprecated in 1.6 and will be removed in 1.7. Use `sklearn.utils.validation.validate_data` instead. This function becomes public and is part of the scikit-learn developer API.\n",
      "  warnings.warn(\n"
     ]
    },
    {
     "name": "stdout",
     "output_type": "stream",
     "text": [
      "[CV] END .learning_rate=10, n_estimators=50, random_state=42; total time=   0.0s\n",
      "[CV] END .learning_rate=10, n_estimators=50, random_state=42; total time=   0.0s\n",
      "[CV] END .learning_rate=10, n_estimators=50, random_state=42; total time=   0.0s\n"
     ]
    },
    {
     "name": "stderr",
     "output_type": "stream",
     "text": [
      "c:\\Users\\MMM\\AppData\\Local\\Programs\\Python\\Python313\\Lib\\site-packages\\sklearn\\base.py:474: FutureWarning: `BaseEstimator._validate_data` is deprecated in 1.6 and will be removed in 1.7. Use `sklearn.utils.validation.validate_data` instead. This function becomes public and is part of the scikit-learn developer API.\n",
      "  warnings.warn(\n",
      "c:\\Users\\MMM\\AppData\\Local\\Programs\\Python\\Python313\\Lib\\site-packages\\sklearn\\base.py:474: FutureWarning: `BaseEstimator._validate_data` is deprecated in 1.6 and will be removed in 1.7. Use `sklearn.utils.validation.validate_data` instead. This function becomes public and is part of the scikit-learn developer API.\n",
      "  warnings.warn(\n",
      "c:\\Users\\MMM\\AppData\\Local\\Programs\\Python\\Python313\\Lib\\site-packages\\sklearn\\base.py:474: FutureWarning: `BaseEstimator._validate_data` is deprecated in 1.6 and will be removed in 1.7. Use `sklearn.utils.validation.validate_data` instead. This function becomes public and is part of the scikit-learn developer API.\n",
      "  warnings.warn(\n"
     ]
    },
    {
     "name": "stdout",
     "output_type": "stream",
     "text": [
      "[CV] END learning_rate=10, n_estimators=100, random_state=42; total time=   0.0s\n",
      "[CV] END learning_rate=10, n_estimators=100, random_state=42; total time=   0.0s\n"
     ]
    },
    {
     "name": "stderr",
     "output_type": "stream",
     "text": [
      "c:\\Users\\MMM\\AppData\\Local\\Programs\\Python\\Python313\\Lib\\site-packages\\sklearn\\base.py:474: FutureWarning: `BaseEstimator._validate_data` is deprecated in 1.6 and will be removed in 1.7. Use `sklearn.utils.validation.validate_data` instead. This function becomes public and is part of the scikit-learn developer API.\n",
      "  warnings.warn(\n",
      "c:\\Users\\MMM\\AppData\\Local\\Programs\\Python\\Python313\\Lib\\site-packages\\sklearn\\base.py:474: FutureWarning: `BaseEstimator._validate_data` is deprecated in 1.6 and will be removed in 1.7. Use `sklearn.utils.validation.validate_data` instead. This function becomes public and is part of the scikit-learn developer API.\n",
      "  warnings.warn(\n"
     ]
    },
    {
     "name": "stdout",
     "output_type": "stream",
     "text": [
      "[CV] END learning_rate=10, n_estimators=100, random_state=42; total time=   0.0s\n",
      "[CV] END learning_rate=10, n_estimators=100, random_state=42; total time=   0.0s\n"
     ]
    },
    {
     "name": "stderr",
     "output_type": "stream",
     "text": [
      "c:\\Users\\MMM\\AppData\\Local\\Programs\\Python\\Python313\\Lib\\site-packages\\sklearn\\base.py:474: FutureWarning: `BaseEstimator._validate_data` is deprecated in 1.6 and will be removed in 1.7. Use `sklearn.utils.validation.validate_data` instead. This function becomes public and is part of the scikit-learn developer API.\n",
      "  warnings.warn(\n",
      "c:\\Users\\MMM\\AppData\\Local\\Programs\\Python\\Python313\\Lib\\site-packages\\sklearn\\base.py:474: FutureWarning: `BaseEstimator._validate_data` is deprecated in 1.6 and will be removed in 1.7. Use `sklearn.utils.validation.validate_data` instead. This function becomes public and is part of the scikit-learn developer API.\n",
      "  warnings.warn(\n",
      "c:\\Users\\MMM\\AppData\\Local\\Programs\\Python\\Python313\\Lib\\site-packages\\sklearn\\base.py:474: FutureWarning: `BaseEstimator._validate_data` is deprecated in 1.6 and will be removed in 1.7. Use `sklearn.utils.validation.validate_data` instead. This function becomes public and is part of the scikit-learn developer API.\n",
      "  warnings.warn(\n"
     ]
    },
    {
     "name": "stdout",
     "output_type": "stream",
     "text": [
      "[CV] END learning_rate=10, n_estimators=100, random_state=42; total time=   0.0s\n",
      "[CV] END learning_rate=10, n_estimators=200, random_state=42; total time=   0.0s\n"
     ]
    },
    {
     "name": "stderr",
     "output_type": "stream",
     "text": [
      "c:\\Users\\MMM\\AppData\\Local\\Programs\\Python\\Python313\\Lib\\site-packages\\sklearn\\base.py:474: FutureWarning: `BaseEstimator._validate_data` is deprecated in 1.6 and will be removed in 1.7. Use `sklearn.utils.validation.validate_data` instead. This function becomes public and is part of the scikit-learn developer API.\n",
      "  warnings.warn(\n",
      "c:\\Users\\MMM\\AppData\\Local\\Programs\\Python\\Python313\\Lib\\site-packages\\sklearn\\base.py:474: FutureWarning: `BaseEstimator._validate_data` is deprecated in 1.6 and will be removed in 1.7. Use `sklearn.utils.validation.validate_data` instead. This function becomes public and is part of the scikit-learn developer API.\n",
      "  warnings.warn(\n"
     ]
    },
    {
     "name": "stdout",
     "output_type": "stream",
     "text": [
      "[CV] END learning_rate=10, n_estimators=200, random_state=42; total time=   0.0s\n",
      "[CV] END learning_rate=10, n_estimators=200, random_state=42; total time=   0.0s\n"
     ]
    },
    {
     "name": "stderr",
     "output_type": "stream",
     "text": [
      "c:\\Users\\MMM\\AppData\\Local\\Programs\\Python\\Python313\\Lib\\site-packages\\sklearn\\base.py:474: FutureWarning: `BaseEstimator._validate_data` is deprecated in 1.6 and will be removed in 1.7. Use `sklearn.utils.validation.validate_data` instead. This function becomes public and is part of the scikit-learn developer API.\n",
      "  warnings.warn(\n",
      "c:\\Users\\MMM\\AppData\\Local\\Programs\\Python\\Python313\\Lib\\site-packages\\sklearn\\base.py:474: FutureWarning: `BaseEstimator._validate_data` is deprecated in 1.6 and will be removed in 1.7. Use `sklearn.utils.validation.validate_data` instead. This function becomes public and is part of the scikit-learn developer API.\n",
      "  warnings.warn(\n"
     ]
    },
    {
     "name": "stdout",
     "output_type": "stream",
     "text": [
      "[CV] END learning_rate=10, n_estimators=200, random_state=42; total time=   0.0s\n",
      "[CV] END learning_rate=10, n_estimators=200, random_state=42; total time=   0.0s\n"
     ]
    },
    {
     "name": "stderr",
     "output_type": "stream",
     "text": [
      "c:\\Users\\MMM\\AppData\\Local\\Programs\\Python\\Python313\\Lib\\site-packages\\sklearn\\base.py:474: FutureWarning: `BaseEstimator._validate_data` is deprecated in 1.6 and will be removed in 1.7. Use `sklearn.utils.validation.validate_data` instead. This function becomes public and is part of the scikit-learn developer API.\n",
      "  warnings.warn(\n"
     ]
    },
    {
     "name": "stdout",
     "output_type": "stream",
     "text": [
      "Best Parameters for AdaBoost: {'learning_rate': 1, 'n_estimators': 200, 'random_state': 42}\n"
     ]
    }
   ],
   "source": [
    "print(\"Hyperparameter Tuning for AdaBoost:\")\n",
    "\n",
    "param_grid_boost = {\n",
    "    'n_estimators': [50, 100, 200],          # Number of base estimators\n",
    "    'learning_rate': [0.01, 0.1, 1, 10],     # Learning rate\n",
    "    'random_state': [42]                     # Ensure reproducibility\n",
    "}\n",
    "\n",
    "# GridSearchCV to find the best combination of hyperparameters\n",
    "grid_search_boost = GridSearchCV(AdaBoostClassifier(), param_grid_boost, \n",
    "                                 scoring='f1', verbose=2, error_score='raise')\n",
    "\n",
    "# Fit the grid search model to the training data\n",
    "grid_search_boost.fit(X_train, y_train)\n",
    "\n",
    "# Print the best hyperparameters found during the grid search\n",
    "print(\"Best Parameters for AdaBoost:\", grid_search_boost.best_params_)\n"
   ]
  },
  {
   "cell_type": "markdown",
   "metadata": {},
   "source": [
    "### Validation"
   ]
  },
  {
   "cell_type": "code",
   "execution_count": 12,
   "metadata": {},
   "outputs": [
    {
     "name": "stdout",
     "output_type": "stream",
     "text": [
      "Accuracy: 0.6708777758349361\n",
      "F1 score: 0.5964949890133447\n",
      "Confusion Matrix:\n",
      " [[9782 3267]\n",
      " [4262 5565]]\n"
     ]
    }
   ],
   "source": [
    "# Predict using the best model found by GridSearchCV\n",
    "y_pred_boost = grid_search_boost.best_estimator_.predict(X_valid)\n",
    "\n",
    "# Print evaluation metrics\n",
    "print(\"Accuracy:\", accuracy_score(y_valid, y_pred_boost))\n",
    "print(\"F1 score:\", f1_score(y_valid, y_pred_boost))\n",
    "print(\"Confusion Matrix:\\n\", confusion_matrix(y_valid, y_pred_boost))\n"
   ]
  },
  {
   "cell_type": "markdown",
   "metadata": {},
   "source": [
    "### Class definition"
   ]
  },
  {
   "cell_type": "code",
   "execution_count": 14,
   "metadata": {},
   "outputs": [],
   "source": [
    "class RandomForestClassifier(ClassifierMixin, BaseEstimator):\n",
    "    _parameter_constraints = {\n",
    "        \"max_depth\": [int, None],\n",
    "        \"n_estimators\": [int],\n",
    "        \"max_features\": [int, float, None],\n",
    "        \"bootstrap\": [bool],\n",
    "        \"random_state\": [int, None],\n",
    "    }\n",
    "\n",
    "    def __init__(self, max_depth=None, n_estimators=50, max_features=None, bootstrap=True, random_state=None):\n",
    "        self.max_depth = max_depth\n",
    "        self.n_estimators = n_estimators\n",
    "        self.max_features = max_features\n",
    "        self.bootstrap = bootstrap\n",
    "        self.random_state = random_state\n",
    "\n",
    "    def _sample_data(self, X, y):\n",
    "        \"\"\"Generate bootstrap sample or use full dataset.\"\"\"\n",
    "        n_samples = X.shape[0]\n",
    "        if self.bootstrap:\n",
    "            indices = np.random.choice(n_samples, size=n_samples, replace=True)\n",
    "            return X[indices], y[indices]\n",
    "        return X, y\n",
    "\n",
    "    def _train_tree(self, X, y):\n",
    "        \"\"\"Train a decision tree on the provided data.\"\"\"\n",
    "        model = DecisionTreeClassifier(max_depth=self.max_depth, max_features=self.max_features, random_state=self.random_state)\n",
    "        model.fit(X, y)\n",
    "        return model\n",
    "\n",
    "    def fit(self, X, y):\n",
    "        # Validate and preprocess data\n",
    "        X, y = self._validate_data(X, y)\n",
    "        check_classification_targets(y)\n",
    "        \n",
    "        self.label_encoder = LabelEncoder()\n",
    "        y_encoded = self.label_encoder.fit_transform(y)\n",
    "        self.classes_ = self.label_encoder.classes_\n",
    "\n",
    "        self.models_ = []\n",
    "        \n",
    "        for _ in range(self.n_estimators):\n",
    "            X_sample, y_sample = self._sample_data(X, y_encoded)\n",
    "            tree = self._train_tree(X_sample, y_sample)\n",
    "            self.models_.append(tree)\n",
    "\n",
    "        self.is_fitted_ = True\n",
    "        return self\n",
    "\n",
    "    def predict(self, X):\n",
    "        check_is_fitted(self)\n",
    "        X = check_array(X)\n",
    "\n",
    "        # Collect predictions and perform majority voting\n",
    "        predictions = np.column_stack([model.predict(X) for model in self.models_])\n",
    "        return np.array([np.bincount(pred).argmax() for pred in predictions.T])\n"
   ]
  },
  {
   "cell_type": "markdown",
   "metadata": {},
   "source": [
    "### Hyperparameter tunning"
   ]
  },
  {
   "cell_type": "code",
   "execution_count": 15,
   "metadata": {},
   "outputs": [
    {
     "name": "stdout",
     "output_type": "stream",
     "text": [
      "Hyperparameter Tuning for Random Forest:\n",
      "Fitting 5 folds for each of 100 candidates, totalling 500 fits\n",
      "Best Parameters for Random Forest: {'bootstrap': True, 'max_depth': 10, 'max_features': 7, 'min_samples_leaf': 12, 'min_samples_split': 7, 'n_estimators': 300, 'random_state': 42}\n"
     ]
    }
   ],
   "source": [
    "from scipy.stats import randint  # Importing randint for random integer selection\n",
    "from sklearn.ensemble import RandomForestClassifier  # Importing RandomForestClassifier\n",
    "from sklearn.model_selection import RandomizedSearchCV  # Importing RandomizedSearchCV\n",
    "\n",
    "print(\"Hyperparameter Tuning for Random Forest:\")\n",
    "\n",
    "# Define the parameter distribution for RandomizedSearchCV\n",
    "param_dist_rf = {\n",
    "    'n_estimators': [50, 100, 200, 300],  # Number of trees in the forest\n",
    "    'max_features': ['sqrt', 'log2', None, 3, 7],  # Features to consider for splits\n",
    "    'max_depth': [None, 10, 20, 30, 40],  # Maximum depth of trees\n",
    "    'min_samples_split': randint(2, 20),  # The minimum number of samples required to split a node\n",
    "    'min_samples_leaf': randint(1, 20),  # The minimum number of samples required to be at a leaf node\n",
    "    'bootstrap': [True, False],  # Whether bootstrap samples are used when building trees\n",
    "    'random_state': [42]  # Ensure reproducibility\n",
    "}\n",
    "\n",
    "# Set up RandomizedSearchCV\n",
    "random_search_rf = RandomizedSearchCV(\n",
    "    RandomForestClassifier(),\n",
    "    param_distributions=param_dist_rf,\n",
    "    n_iter=100,  # Number of random combinations to try\n",
    "    scoring='f1',\n",
    "    verbose=2,\n",
    "    random_state=42,\n",
    "    n_jobs=-1  # Use all available cores for parallel processing\n",
    ")\n",
    "\n",
    "# Fit the random search\n",
    "random_search_rf.fit(X_train, y_train)\n",
    "\n",
    "# Print the best parameters\n",
    "print(\"Best Parameters for Random Forest:\", random_search_rf.best_params_)\n"
   ]
  },
  {
   "cell_type": "markdown",
   "metadata": {},
   "source": [
    "### Validation"
   ]
  },
  {
   "cell_type": "code",
   "execution_count": 16,
   "metadata": {},
   "outputs": [
    {
     "name": "stdout",
     "output_type": "stream",
     "text": [
      "Accuracy: 0.6805385556915544\n",
      "F1 score: 0.64\n",
      "Confusion Matrix:\n",
      " [[9072 3977]\n",
      " [3331 6496]]\n"
     ]
    }
   ],
   "source": [
    "# Predict on the validation set using the best estimator found by the random search\n",
    "y_pred_rf = random_search_rf.best_estimator_.predict(X_valid)\n",
    "\n",
    "# Evaluate the model\n",
    "print(\"Accuracy:\", accuracy_score(y_valid, y_pred_rf))\n",
    "print(\"F1 score:\", f1_score(y_valid, y_pred_rf))\n",
    "print(\"Confusion Matrix:\\n\", confusion_matrix(y_valid, y_pred_rf))\n"
   ]
  },
  {
   "cell_type": "markdown",
   "metadata": {},
   "source": [
    "# Final model\n",
    "The 3 models happened to give a similar performance, we will choose the AdaBoost since technically it has the highest f1 score\n",
    "\n",
    "### Final Testing"
   ]
  },
  {
   "cell_type": "code",
   "execution_count": 17,
   "metadata": {},
   "outputs": [
    {
     "name": "stdout",
     "output_type": "stream",
     "text": [
      "Finalizing Model:\n",
      "Final Model Accuracy: 0.6704987542072824\n",
      "Final Model F1 score: 0.5961208744106301\n",
      "Confusion Matrix:\n",
      " [[9776 3274]\n",
      " [4264 5563]]\n",
      "Classification Report:\n",
      "               precision    recall  f1-score   support\n",
      "\n",
      "         0.0       0.70      0.75      0.72     13050\n",
      "         1.0       0.63      0.57      0.60      9827\n",
      "\n",
      "    accuracy                           0.67     22877\n",
      "   macro avg       0.66      0.66      0.66     22877\n",
      "weighted avg       0.67      0.67      0.67     22877\n",
      "\n"
     ]
    }
   ],
   "source": [
    "print(\"Finalizing Model:\")\n",
    "# Using the best model from GridSearchCV (AdaBoost in this case)\n",
    "best_model = grid_search_boost.best_estimator_\n",
    "\n",
    "# Predict on the test set\n",
    "y_pred_final = best_model.predict(X_test)\n",
    "\n",
    "# Print performance metrics\n",
    "print(\"Final Model Accuracy:\", accuracy_score(y_test, y_pred_final))\n",
    "print(\"Final Model F1 score:\", f1_score(y_test, y_pred_final))\n",
    "print(\"Confusion Matrix:\\n\", confusion_matrix(y_test, y_pred_final))\n",
    "print(\"Classification Report:\\n\", classification_report(y_test, y_pred_final))\n"
   ]
  },
  {
   "cell_type": "markdown",
   "metadata": {},
   "source": [
    "\n",
    "### Cell 2: Markdown - Data Processing Introduction\n",
    "- **Purpose**: Introduces the data processing section.\n",
    "- **Content**: A markdown cell stating, \"Data is processed as discussed in the other two notebooks.\"\n",
    "- **Functionality**: Provides context, indicating that data processing follows methods described in related notebooks (e.g., `explanatory.ipynb`).\n",
    "\n",
    "### Cell 3: Code - Data Loading and Feature Selection\n",
    "- **Purpose**: Loads the dataset, selects a random subset of features, and saves the result.\n",
    "- **Content**:\n",
    "  - Defines student IDs `[8110, 8000, 7497]` and computes a `random_seed` (sum = 23607) for reproducibility.\n",
    "  - Sets the random seed using `random.seed(random_seed)`.\n",
    "  - Defines file paths: `input_csv = \"data.csv\"` and `output_csv = \"my_data.csv\"`.\n",
    "  - Loads `data.csv` into a DataFrame (`df`).\n",
    "  - Specifies the target column (`smoking`) and excludes it from feature candidates.\n",
    "  - Randomly selects 10 features using `random.sample` and prints them.\n",
    "  - Appends the target column to the selected features.\n",
    "  - Creates a new DataFrame (`selected_df`) with the selected features and saves it to `my_data.csv` without the index.\n",
    "- **Functionality**: Prepares a subset of the dataset with 10 randomly selected features plus the target, ensuring reproducibility, and saves it for further processing.\n",
    "\n",
    "### Cell 4: Code - Load Processed Dataset\n",
    "- **Purpose**: Loads the processed dataset and removes unwanted columns.\n",
    "- **Content**:\n",
    "  - Loads `my_data.csv` into a DataFrame (`df`).\n",
    "  - Drops the `Unnamed: 0` column if present (common artifact from CSV operations).\n",
    "- **Functionality**: Ensures the processed dataset is loaded and cleaned of unnecessary index columns.\n",
    "\n",
    "### Cell 5: Code - Outlier Removal and Normalization Functions (Initial Definitions)\n",
    "- **Purpose**: Defines functions for outlier removal and three normalization techniques.\n",
    "- **Content**:\n",
    "  - Defines `remove_outliers(df, feature)`:\n",
    "    - Skips binary features (two unique values).\n",
    "    - Calculates 10th and 90th percentiles as bounds.\n",
    "    - Removes rows outside these bounds, resets the index, and prints the number of outliers removed.\n",
    "  - Defines `mean_normalize_all(df)`:\n",
    "    - Applies mean normalization to non-binary, non-target features: `(x - mean) / std`.\n",
    "    - Prints max and min values post-normalization.\n",
    "  - Defines `minmax_normalize_all(df)`:\n",
    "    - Applies min-max normalization to non-binary, non-target features: `(x - min) / (max - min)`.\n",
    "    - Prints max and min values.\n",
    "  - Defines `max_abs_normalize_all(df)`:\n",
    "    - Applies max-abs normalization to non-binary, non-target features: `x / max(abs(x))`.\n",
    "    - Prints max and min values.\n",
    "- **Functionality**: Provides modular functions for data cleaning (outlier removal) and feature scaling (normalization), with detailed output for monitoring.\n",
    "\n",
    "### Cell 6: Code - Outlier Removal and Normalization (Updated Definitions and Application)\n",
    "- **Purpose**: Redefines outlier removal using IQR, redefines normalization functions, and applies them to the dataset.\n",
    "- **Content**:\n",
    "  - Redefines `remove_outliers(df, feature)`:\n",
    "    - Uses IQR method: calculates Q1, Q3, and bounds as `Q1 - 1.5*IQR` and `Q3 + 1.5*IQR`.\n",
    "    - Filters rows within bounds and returns the DataFrame.\n",
    "  - Redefines `mean_normalize_all(df)`, `minmax_normalize_all(df)`, and `max_abs_normalize_all(df)`:\n",
    "    - Applies normalization to all numerical columns (not skipping binary or target explicitly).\n",
    "  - Prints initial DataFrame shape.\n",
    "  - Applies `remove_outliers` to `ALT` and `LDL` if present, printing results.\n",
    "  - Drops `hearing(right)` and `Cholesterol` if present.\n",
    "  - Creates copies of the DataFrame for each normalization method (`df_mean_norm`, `df_minmax_norm`, `df_maxabs_norm`).\n",
    "  - Applies each normalization method and prints results.\n",
    "  - Selects `df_minmax_norm` as the final DataFrame (`df`).\n",
    "  - Prints final DataFrame shape.\n",
    "- **Functionality**: Cleans the dataset by removing outliers using IQR, drops irrelevant columns, and applies three normalization techniques, selecting min-max normalization for further use.\n",
    "\n",
    "### Cell 7: Markdown - Dataset Splitting Introduction\n",
    "- **Purpose**: Introduces the dataset splitting section.\n",
    "- **Content**: A markdown cell specifying the split ratios: \"70% training, 15% validation, 15% test.\"\n",
    "- **Functionality**: Sets expectations for the data partitioning process.\n",
    "\n",
    "### Cell 8: Code - Dataset Splitting\n",
    "- **Purpose**: Splits the dataset into training, validation, and test sets.\n",
    "- **Content**:\n",
    "  - Separates features (`X`) and target (`y`) from `df`.\n",
    "  - Splits data into 70% training and 30% temporary sets using `train_test_split` with `random_state=42` and `stratify=y`.\n",
    "  - Splits the temporary set into 15% validation and 15% test sets, maintaining stratification.\n",
    "  - Resets indices for all subsets.\n",
    "- **Functionality**: Partitions the dataset into training, validation, and test sets, ensuring consistent class distribution via stratification.\n",
    "\n",
    "### Cell 9: Markdown - Bagging Classifier Definition Header\n",
    "- **Purpose**: Labels the section for the Bagging Classifier implementation.\n",
    "- **Content**: A markdown cell with the header \"Class definition.\"\n",
    "- **Functionality**: Organizes the notebook by marking the Bagging model section.\n",
    "\n",
    "### Cell 10: Code - Bagging Classifier Implementation\n",
    "- **Purpose**: Defines a custom `BaggingClassifier` class.\n",
    "- **Content**:\n",
    "  - Defines `BaggingClassifier` inheriting from `ClassifierMixin` and `BaseEstimator`.\n",
    "  - Specifies parameters: `max_depth`, `n_estimators`, `max_samples`, `bootstrap`, `random_state`.\n",
    "  - Implements `fit`:\n",
    "    - Validates input and encodes labels.\n",
    "    - Trains multiple `DecisionTreeClassifier` models on bootstrap samples (if enabled).\n",
    "    - Skips models if the sample has fewer than two classes.\n",
    "  - Implements `predict`:\n",
    "    - Collects predictions from all models and returns majority votes.\n",
    "- **Functionality**: Provides a custom bagging ensemble classifier using decision trees, supporting bootstrap sampling and majority voting.\n",
    "\n",
    "### Cell 11: Code - Bagging Hyperparameter Tuning\n",
    "- **Purpose**: Performs hyperparameter tuning for the Bagging Classifier.\n",
    "- **Content**:\n",
    "  - Defines a parameter grid: `n_estimators=[50, 100, 150]`, `max_samples=[0.5, 0.7, 1.0]`, `random_state=[42]`.\n",
    "  - Sets up `GridSearchCV` with `BaggingClassifier`, using F1 score as the metric.\n",
    "  - Fits the grid search on training data.\n",
    "  - Prints the best parameters.\n",
    "- **Functionality**: Optimizes the Bagging Classifier’s hyperparameters using grid search, focusing on F1 score.\n",
    "\n",
    "### Cell 12: Markdown - Bagging Validation Header\n",
    "- **Purpose**: Labels the validation section for the Bagging Classifier.\n",
    "- **Content**: A markdown cell with the header \"Validation.\"\n",
    "- **Functionality**: Organizes the notebook by marking the Bagging validation section.\n",
    "\n",
    "### Cell 13: Code - Bagging Validation\n",
    "- **Purpose**: Evaluates the Bagging Classifier on the validation set.\n",
    "- **Content**:\n",
    "  - Predicts on the validation set using the best model from grid search.\n",
    "  - Computes accuracy, F1 score, and confusion matrix.\n",
    "  - Prints the results.\n",
    "- **Functionality**: Assesses the performance of the tuned Bagging Classifier on the validation set using key metrics.\n",
    "\n",
    "### Cell 14: Markdown - AdaBoost Classifier Definition Header\n",
    "- **Purpose**: Labels the section for the AdaBoost Classifier implementation.\n",
    "- **Content**: A markdown cell with the header \"Class definition.\"\n",
    "- **Functionality**: Organizes the notebook by marking the AdaBoost model section.\n",
    "\n",
    "### Cell 15: Code - AdaBoost Classifier Implementation\n",
    "- **Purpose**: Defines a custom `AdaBoostClassifier` class.\n",
    "- **Content**:\n",
    "  - Defines `AdaBoostClassifier` with parameters: `max_depth`, `n_estimators`, `learning_rate`, `random_state`.\n",
    "  - Implements `fit`:\n",
    "    - Validates input and encodes labels.\n",
    "    - Initializes equal sample weights.\n",
    "    - Iteratively trains decision trees, updating weights based on errors and computing model weights (`alpha`).\n",
    "    - Stops if weighted error is too high or too low.\n",
    "  - Implements `predict`:\n",
    "    - Combines weighted predictions from all models and returns the class with the highest score.\n",
    "- **Functionality**: Provides a custom AdaBoost ensemble classifier, boosting weak decision trees by focusing on misclassified samples.\n",
    "\n",
    "### Cell 16: Markdown - AdaBoost Hyperparameter Tuning Header\n",
    "- **Purpose**: Labels the section for AdaBoost hyperparameter tuning.\n",
    "- **Content**: A markdown cell with the header \"Hyperparameter tunning.\"\n",
    "- **Functionality**: Organizes the notebook by marking the AdaBoost tuning section.\n",
    "\n",
    "### Cell 17: Code - AdaBoost Hyperparameter Tuning\n",
    "- **Purpose**: Performs hyperparameter tuning for the AdaBoost Classifier.\n",
    "- **Content**:\n",
    "  - Defines a parameter grid: `n_estimators=[50, 100, 200]`, `learning_rate=[0.01, 0.1, 1, 10]`, `random_state=[42]`.\n",
    "  - Sets up `GridSearchCV` with `AdaBoostClassifier`, using F1 score.\n",
    "  - Fits the grid search on training data.\n",
    "  - Prints the best parameters.\n",
    "- **Functionality**: Optimizes the AdaBoost Classifier’s hyperparameters using grid search, prioritizing F1 score.\n",
    "\n",
    "### Cell 18: Markdown - AdaBoost Validation Header\n",
    "- **Purpose**: Labels the validation section for the AdaBoost Classifier.\n",
    "- **Content**: A markdown cell with the header \"Validation.\"\n",
    "- **Functionality**: Organizes the notebook by marking the AdaBoost validation section.\n",
    "\n",
    "### Cell 19: Code - AdaBoost Validation\n",
    "- **Purpose**: Evaluates the AdaBoost Classifier on the validation set.\n",
    "- **Content**:\n",
    "  - Predicts on the validation set using the best model from grid search.\n",
    "  - Computes accuracy, F1 score, and confusion matrix.\n",
    "  - Prints the results.\n",
    "- **Functionality**: Assesses the performance of the tuned AdaBoost Classifier on the validation set.\n",
    "\n",
    "### Cell 20: Markdown - Random Forest Classifier Definition Header\n",
    "- **Purpose**: Labels the section for the Random Forest Classifier implementation.\n",
    "- **Content**: A markdown cell with the header \"Class definition.\"\n",
    "- **Functionality**: Organizes the notebook by marking the Random Forest model section.\n",
    "\n",
    "### Cell 21: Code - Random Forest Classifier Implementation\n",
    "- **Purpose**: Defines a custom `RandomForestClassifier` class.\n",
    "- **Content**:\n",
    "  - Defines `RandomForestClassifier` with parameters: `max_depth`, `n_estimators`, `max_features`, `bootstrap`, `random_state`.\n",
    "  - Implements helper methods: `_sample_data` for bootstrap sampling, `_train_tree` for training decision trees.\n",
    "  - Implements `fit`:\n",
    "    - Validates input and encodes labels.\n",
    "    - Trains multiple decision trees on bootstrap samples with random feature subsets.\n",
    "  - Implements `predict`:\n",
    "    - Collects predictions from all trees and returns majority votes.\n",
    "- **Functionality**: Provides a custom random forest classifier, combining bagging with random feature selection for robustness.\n",
    "\n",
    "### Cell 22: Markdown - Random Forest Hyperparameter Tuning Header\n",
    "- **Purpose**: Labels the section for Random Forest hyperparameter tuning.\n",
    "- **Content**: A markdown cell with the header \"Hyperparameter tunning.\"\n",
    "- **Functionality**: Organizes the notebook by marking the Random Forest tuning section.\n",
    "\n",
    "### Cell 23: Code - Random Forest Hyperparameter Tuning\n",
    "- **Purpose**: Performs hyperparameter tuning for the Random Forest Classifier.\n",
    "- **Content**:\n",
    "  - Imports `randint`, `RandomForestClassifier` (from scikit-learn), and `RandomizedSearchCV`.\n",
    "  - Defines a parameter distribution: `n_estimators=[50, 100, 200, 300]`, `max_features=['sqrt', 'log2', None, 3, 7]`, `max_depth=[None, 10, 20, 30, 40]`, `min_samples_split=randint(2, 20)`, `min_samples_leaf=randint(1, 20)`, `bootstrap=[True, False]`, `random_state=[42]`.\n",
    "  - Sets up `RandomizedSearchCV` with 100 iterations, using F1 score and parallel processing.\n",
    "  - Fits the random search on training data.\n",
    "  - Prints the best parameters.\n",
    "- **Functionality**: Optimizes the Random Forest Classifier’s hyperparameters using randomized search, exploring a wide parameter space efficiently.\n",
    "\n",
    "### Cell 24: Markdown - Random Forest Validation Header\n",
    "- **Purpose**: Labels the validation section for the Random Forest Classifier.\n",
    "- **Content**: A markdown cell with the header \"Validation.\"\n",
    "- **Functionality**: Organizes the notebook by marking the Random Forest validation section.\n",
    "\n",
    "### Cell 25: Code - Random Forest Validation\n",
    "- **Purpose**: Evaluates the Random Forest Classifier on the validation set.\n",
    "- **Content**:\n",
    "  - Predicts on the validation set using the best model from random search.\n",
    "  - Computes accuracy, F1 score, and confusion matrix.\n",
    "  - Prints the results.\n",
    "- **Functionality**: Assesses the performance of the tuned Random Forest Classifier on the validation set.\n",
    "\n",
    "### Cell 26: Markdown - Final Model Selection and Testing\n",
    "- **Purpose**: Introduces the final model selection and testing section.\n",
    "- **Content**: A markdown cell stating that all three models performed similarly, with AdaBoost selected due to the highest F1 score, followed by a header \"Final Testing.\"\n",
    "- **Functionality**: Justifies the choice of AdaBoost for final evaluation and organizes the testing section.\n",
    "\n",
    "### Cell 27: Code - Final Model Testing\n",
    "- **Purpose**: Evaluates the selected AdaBoost model on the test set.\n",
    "- **Content**:\n",
    "  - Uses the best AdaBoost model from `grid_search_boost`.\n",
    "  - Predicts on the test set.\n",
    "  - Computes accuracy, F1 score, confusion matrix, and classification report.\n",
    "  - Prints the results.\n",
    "- **Functionality**: Provides a comprehensive evaluation of the final model’s performance on unseen test data.\n",
    "\n",
    "---\n",
    "\n",
    "## Summary\n",
    "The `training.ipynb` notebook systematically builds and evaluates machine learning models to predict smoking behavior:\n",
    "1. **Data Preparation**:\n",
    "   - Loads the dataset, selects 10 random features, and saves a subset.\n",
    "   - Removes outliers using IQR for `ALT` and `LDL`, drops irrelevant columns, and applies min-max normalization.\n",
    "   - Splits data into 70% training, 15% validation, and 15% test sets with stratification.\n",
    "2. **Model Implementation**:\n",
    "   - Implements custom `BaggingClassifier`, `AdaBoostClassifier`, and `RandomForestClassifier` classes, each using decision trees as base learners.\n",
    "3. **Hyperparameter Tuning**:\n",
    "   - Tunes Bagging and AdaBoost using `GridSearchCV` and Random Forest using `RandomizedSearchCV`, optimizing for F1 score.\n",
    "4. **Validation**:\n",
    "   - Evaluates each model on the validation set using accuracy, F1 score, and confusion matrix.\n",
    "5. **Final Testing**:\n",
    "   - Selects AdaBoost as the final model (highest F1 score) and evaluates it on the test set, reporting detailed metrics.\n",
    "\n",
    "The notebook is well-organized, with modular functions and custom implementations that enhance understanding of ensemble methods. Reproducibility is ensured via a fixed random seed, and the use of F1 score as the primary metric aligns with handling potentially imbalanced classes.\n",
    "\n",
    "---"
   ]
  }
 ],
 "metadata": {
  "kernelspec": {
   "display_name": "Python 3",
   "language": "python",
   "name": "python3"
  },
  "language_info": {
   "codemirror_mode": {
    "name": "ipython",
    "version": 3
   },
   "file_extension": ".py",
   "mimetype": "text/x-python",
   "name": "python",
   "nbconvert_exporter": "python",
   "pygments_lexer": "ipython3",
   "version": "3.13.3"
  }
 },
 "nbformat": 4,
 "nbformat_minor": 2
}
